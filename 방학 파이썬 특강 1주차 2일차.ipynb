{
 "cells": [
  {
   "cell_type": "markdown",
   "id": "b0dd2408",
   "metadata": {},
   "source": [
    "# Sequence: 문자열, 리스트, 튜플"
   ]
  },
  {
   "cell_type": "code",
   "execution_count": 16,
   "id": "c7a01e91",
   "metadata": {},
   "outputs": [],
   "source": [
    "a='abcd';b=list(a);c=tuple(a)"
   ]
  },
  {
   "cell_type": "code",
   "execution_count": 17,
   "id": "aa8631a4",
   "metadata": {},
   "outputs": [
    {
     "data": {
      "text/plain": [
       "'abcd'"
      ]
     },
     "execution_count": 17,
     "metadata": {},
     "output_type": "execute_result"
    }
   ],
   "source": [
    "a"
   ]
  },
  {
   "cell_type": "code",
   "execution_count": 18,
   "id": "d5f26020",
   "metadata": {},
   "outputs": [
    {
     "data": {
      "text/plain": [
       "['a', 'b', 'c', 'd']"
      ]
     },
     "execution_count": 18,
     "metadata": {},
     "output_type": "execute_result"
    }
   ],
   "source": [
    "b"
   ]
  },
  {
   "cell_type": "code",
   "execution_count": 19,
   "id": "05a6121d",
   "metadata": {},
   "outputs": [
    {
     "data": {
      "text/plain": [
       "('a', 'b', 'c', 'd')"
      ]
     },
     "execution_count": 19,
     "metadata": {},
     "output_type": "execute_result"
    }
   ],
   "source": [
    "c"
   ]
  },
  {
   "cell_type": "code",
   "execution_count": 20,
   "id": "808887e9",
   "metadata": {},
   "outputs": [
    {
     "data": {
      "text/plain": [
       "'a'"
      ]
     },
     "execution_count": 20,
     "metadata": {},
     "output_type": "execute_result"
    }
   ],
   "source": [
    "a[0]"
   ]
  },
  {
   "cell_type": "code",
   "execution_count": 21,
   "id": "211b00f6",
   "metadata": {},
   "outputs": [
    {
     "data": {
      "text/plain": [
       "'d'"
      ]
     },
     "execution_count": 21,
     "metadata": {},
     "output_type": "execute_result"
    }
   ],
   "source": [
    "a[-1]"
   ]
  },
  {
   "cell_type": "code",
   "execution_count": 22,
   "id": "986ce97b",
   "metadata": {},
   "outputs": [
    {
     "data": {
      "text/plain": [
       "'a'"
      ]
     },
     "execution_count": 22,
     "metadata": {},
     "output_type": "execute_result"
    }
   ],
   "source": [
    "a[0:1]"
   ]
  },
  {
   "cell_type": "code",
   "execution_count": 23,
   "id": "bd4b2997",
   "metadata": {},
   "outputs": [
    {
     "data": {
      "text/plain": [
       "'ab'"
      ]
     },
     "execution_count": 23,
     "metadata": {},
     "output_type": "execute_result"
    }
   ],
   "source": [
    "a[0:2]"
   ]
  },
  {
   "cell_type": "code",
   "execution_count": 24,
   "id": "fcd321e7",
   "metadata": {},
   "outputs": [
    {
     "data": {
      "text/plain": [
       "'d'"
      ]
     },
     "execution_count": 24,
     "metadata": {},
     "output_type": "execute_result"
    }
   ],
   "source": [
    "b[-1]"
   ]
  },
  {
   "cell_type": "code",
   "execution_count": 25,
   "id": "e81a4881",
   "metadata": {
    "scrolled": true
   },
   "outputs": [
    {
     "data": {
      "text/plain": [
       "['a', 'b']"
      ]
     },
     "execution_count": 25,
     "metadata": {},
     "output_type": "execute_result"
    }
   ],
   "source": [
    "b[0:2]"
   ]
  },
  {
   "cell_type": "code",
   "execution_count": 27,
   "id": "ef62d452",
   "metadata": {},
   "outputs": [
    {
     "data": {
      "text/plain": [
       "'abcdab'"
      ]
     },
     "execution_count": 27,
     "metadata": {},
     "output_type": "execute_result"
    }
   ],
   "source": [
    "a+a[:2]"
   ]
  },
  {
   "cell_type": "code",
   "execution_count": 28,
   "id": "58a69a51",
   "metadata": {},
   "outputs": [
    {
     "data": {
      "text/plain": [
       "['a', 'b', 'c', 'd', 'a', 'b']"
      ]
     },
     "execution_count": 28,
     "metadata": {},
     "output_type": "execute_result"
    }
   ],
   "source": [
    "b+b[:2]"
   ]
  },
  {
   "cell_type": "code",
   "execution_count": 29,
   "id": "33a6e724",
   "metadata": {},
   "outputs": [
    {
     "data": {
      "text/plain": [
       "('a', 'b', 'c', 'd', 'a', 'b')"
      ]
     },
     "execution_count": 29,
     "metadata": {},
     "output_type": "execute_result"
    }
   ],
   "source": [
    "c+c[:2]"
   ]
  },
  {
   "cell_type": "code",
   "execution_count": 30,
   "id": "37bb5ecb",
   "metadata": {},
   "outputs": [
    {
     "data": {
      "text/plain": [
       "'aaa'"
      ]
     },
     "execution_count": 30,
     "metadata": {},
     "output_type": "execute_result"
    }
   ],
   "source": [
    "a[0]*3"
   ]
  },
  {
   "cell_type": "code",
   "execution_count": 32,
   "id": "6701f5a1",
   "metadata": {},
   "outputs": [
    {
     "data": {
      "text/plain": [
       "['a', 'b', 'a', 'b', 'a', 'b']"
      ]
     },
     "execution_count": 32,
     "metadata": {},
     "output_type": "execute_result"
    }
   ],
   "source": [
    "b[:2]*3"
   ]
  },
  {
   "cell_type": "code",
   "execution_count": 33,
   "id": "0fdb6c41",
   "metadata": {},
   "outputs": [
    {
     "data": {
      "text/plain": [
       "('c', 'c', 'c')"
      ]
     },
     "execution_count": 33,
     "metadata": {},
     "output_type": "execute_result"
    }
   ],
   "source": [
    "c[2:3]*3"
   ]
  },
  {
   "cell_type": "code",
   "execution_count": 34,
   "id": "166861db",
   "metadata": {},
   "outputs": [],
   "source": [
    "# iterable object"
   ]
  },
  {
   "cell_type": "code",
   "execution_count": 42,
   "id": "53a327d1",
   "metadata": {},
   "outputs": [],
   "source": [
    "d={'a':2,'b':1};e={2,12,3,2}"
   ]
  },
  {
   "cell_type": "code",
   "execution_count": 43,
   "id": "7de7e36b",
   "metadata": {},
   "outputs": [
    {
     "data": {
      "text/plain": [
       "{'a': 2, 'b': 1}"
      ]
     },
     "execution_count": 43,
     "metadata": {},
     "output_type": "execute_result"
    }
   ],
   "source": [
    "d"
   ]
  },
  {
   "cell_type": "code",
   "execution_count": 44,
   "id": "3065c5f4",
   "metadata": {},
   "outputs": [
    {
     "data": {
      "text/plain": [
       "{2, 3, 12}"
      ]
     },
     "execution_count": 44,
     "metadata": {},
     "output_type": "execute_result"
    }
   ],
   "source": [
    "e"
   ]
  },
  {
   "cell_type": "code",
   "execution_count": 45,
   "id": "9e3c70af",
   "metadata": {},
   "outputs": [
    {
     "data": {
      "text/plain": [
       "4"
      ]
     },
     "execution_count": 45,
     "metadata": {},
     "output_type": "execute_result"
    }
   ],
   "source": [
    "len(a)"
   ]
  },
  {
   "cell_type": "code",
   "execution_count": 46,
   "id": "aea16b7c",
   "metadata": {},
   "outputs": [
    {
     "data": {
      "text/plain": [
       "4"
      ]
     },
     "execution_count": 46,
     "metadata": {},
     "output_type": "execute_result"
    }
   ],
   "source": [
    "len(b)"
   ]
  },
  {
   "cell_type": "code",
   "execution_count": 47,
   "id": "b488e610",
   "metadata": {},
   "outputs": [
    {
     "data": {
      "text/plain": [
       "4"
      ]
     },
     "execution_count": 47,
     "metadata": {},
     "output_type": "execute_result"
    }
   ],
   "source": [
    "len(c)"
   ]
  },
  {
   "cell_type": "code",
   "execution_count": 49,
   "id": "9d5d776c",
   "metadata": {},
   "outputs": [
    {
     "data": {
      "text/plain": [
       "2"
      ]
     },
     "execution_count": 49,
     "metadata": {},
     "output_type": "execute_result"
    }
   ],
   "source": [
    "len(d)"
   ]
  },
  {
   "cell_type": "code",
   "execution_count": 50,
   "id": "28151d65",
   "metadata": {},
   "outputs": [
    {
     "data": {
      "text/plain": [
       "3"
      ]
     },
     "execution_count": 50,
     "metadata": {},
     "output_type": "execute_result"
    }
   ],
   "source": [
    "len(e)"
   ]
  },
  {
   "cell_type": "code",
   "execution_count": 51,
   "id": "ab43bbba",
   "metadata": {},
   "outputs": [
    {
     "name": "stdout",
     "output_type": "stream",
     "text": [
      "a\n",
      "b\n",
      "c\n",
      "d\n"
     ]
    }
   ],
   "source": [
    "for i in a:\n",
    "    print(i)"
   ]
  },
  {
   "cell_type": "code",
   "execution_count": 53,
   "id": "2fddbaa2",
   "metadata": {},
   "outputs": [
    {
     "name": "stdout",
     "output_type": "stream",
     "text": [
      "a\n",
      "b\n",
      "c\n",
      "d\n"
     ]
    }
   ],
   "source": [
    "for i in b:\n",
    "    print(i)"
   ]
  },
  {
   "cell_type": "code",
   "execution_count": 54,
   "id": "648f2c12",
   "metadata": {},
   "outputs": [
    {
     "name": "stdout",
     "output_type": "stream",
     "text": [
      "a\n",
      "b\n"
     ]
    }
   ],
   "source": [
    "for i in d:\n",
    "    print(i)"
   ]
  },
  {
   "cell_type": "code",
   "execution_count": 55,
   "id": "99278c3a",
   "metadata": {},
   "outputs": [
    {
     "name": "stdout",
     "output_type": "stream",
     "text": [
      "2\n",
      "3\n",
      "12\n"
     ]
    }
   ],
   "source": [
    "for i in e:\n",
    "    print(i)"
   ]
  },
  {
   "cell_type": "markdown",
   "id": "45a20e11",
   "metadata": {},
   "source": [
    "# 문자열 메서드"
   ]
  },
  {
   "cell_type": "code",
   "execution_count": 57,
   "id": "fd575d65",
   "metadata": {},
   "outputs": [],
   "source": [
    "a='they\\'re Bill\\'s friends from the UK.'"
   ]
  },
  {
   "cell_type": "code",
   "execution_count": 59,
   "id": "e0dafaaf",
   "metadata": {},
   "outputs": [
    {
     "data": {
      "text/plain": [
       "\"THEY'RE BILL'S FRIENDS FROM THE UK.\""
      ]
     },
     "execution_count": 59,
     "metadata": {},
     "output_type": "execute_result"
    }
   ],
   "source": [
    "a.upper()"
   ]
  },
  {
   "cell_type": "code",
   "execution_count": 60,
   "id": "494279d7",
   "metadata": {},
   "outputs": [
    {
     "data": {
      "text/plain": [
       "\"they're bill's friends from the uk.\""
      ]
     },
     "execution_count": 60,
     "metadata": {},
     "output_type": "execute_result"
    }
   ],
   "source": [
    "a.lower()"
   ]
  },
  {
   "cell_type": "code",
   "execution_count": 62,
   "id": "6693fd5f",
   "metadata": {},
   "outputs": [
    {
     "data": {
      "text/plain": [
       "\"They'Re Bill'S Friends From The Uk.\""
      ]
     },
     "execution_count": 62,
     "metadata": {},
     "output_type": "execute_result"
    }
   ],
   "source": [
    "a.title() #첫문자만 대문자로 바꿈"
   ]
  },
  {
   "cell_type": "code",
   "execution_count": 64,
   "id": "683f4433",
   "metadata": {},
   "outputs": [
    {
     "data": {
      "text/plain": [
       "4"
      ]
     },
     "execution_count": 64,
     "metadata": {},
     "output_type": "execute_result"
    }
   ],
   "source": [
    "a.count(\"e\")"
   ]
  },
  {
   "cell_type": "code",
   "execution_count": 65,
   "id": "acbae84b",
   "metadata": {},
   "outputs": [
    {
     "data": {
      "text/plain": [
       "2"
      ]
     },
     "execution_count": 65,
     "metadata": {},
     "output_type": "execute_result"
    }
   ],
   "source": [
    "a.find('e')"
   ]
  },
  {
   "cell_type": "code",
   "execution_count": 66,
   "id": "147b7162",
   "metadata": {},
   "outputs": [
    {
     "data": {
      "text/plain": [
       "6"
      ]
     },
     "execution_count": 66,
     "metadata": {},
     "output_type": "execute_result"
    }
   ],
   "source": [
    "a.find(\"e\",3)"
   ]
  },
  {
   "cell_type": "code",
   "execution_count": 67,
   "id": "ad476fcd",
   "metadata": {},
   "outputs": [
    {
     "data": {
      "text/plain": [
       "-1"
      ]
     },
     "execution_count": 67,
     "metadata": {},
     "output_type": "execute_result"
    }
   ],
   "source": [
    "a.find(\"e\",3,6) # 3부터 시작해서 5사이에 e가 있나? 없으면 -1이 "
   ]
  },
  {
   "cell_type": "code",
   "execution_count": 68,
   "id": "8c10540f",
   "metadata": {},
   "outputs": [
    {
     "data": {
      "text/plain": [
       "30"
      ]
     },
     "execution_count": 68,
     "metadata": {},
     "output_type": "execute_result"
    }
   ],
   "source": [
    "a.rfind(\"e\") #오른쪽부터 검색함 "
   ]
  },
  {
   "cell_type": "code",
   "execution_count": 69,
   "id": "76ddfbe9",
   "metadata": {},
   "outputs": [
    {
     "data": {
      "text/plain": [
       "True"
      ]
     },
     "execution_count": 69,
     "metadata": {},
     "output_type": "execute_result"
    }
   ],
   "source": [
    "a.endswith(\"UK.\")"
   ]
  },
  {
   "cell_type": "code",
   "execution_count": 70,
   "id": "e6bdce8b",
   "metadata": {},
   "outputs": [
    {
     "data": {
      "text/plain": [
       "True"
      ]
     },
     "execution_count": 70,
     "metadata": {},
     "output_type": "execute_result"
    }
   ],
   "source": [
    "a.startswith(\"t\")"
   ]
  },
  {
   "cell_type": "code",
   "execution_count": 72,
   "id": "f6b8d7e2",
   "metadata": {},
   "outputs": [
    {
     "data": {
      "text/plain": [
       "True"
      ]
     },
     "execution_count": 72,
     "metadata": {},
     "output_type": "execute_result"
    }
   ],
   "source": [
    "'abc한글123'.isalnum() #선행하는 문자열이 전부다 영어,한글,숫자로 구성되면 True"
   ]
  },
  {
   "cell_type": "code",
   "execution_count": 74,
   "id": "36da809e",
   "metadata": {},
   "outputs": [
    {
     "data": {
      "text/plain": [
       "True"
      ]
     },
     "execution_count": 74,
     "metadata": {},
     "output_type": "execute_result"
    }
   ],
   "source": [
    "'123'.isdigit() #앞의 문자열이 전부다 숫자로 구성되어 있으면"
   ]
  },
  {
   "cell_type": "code",
   "execution_count": 75,
   "id": "4e2c41ce",
   "metadata": {},
   "outputs": [
    {
     "data": {
      "text/plain": [
       "True"
      ]
     },
     "execution_count": 75,
     "metadata": {},
     "output_type": "execute_result"
    }
   ],
   "source": [
    "'abc'.islower()"
   ]
  },
  {
   "cell_type": "code",
   "execution_count": 76,
   "id": "63982e71",
   "metadata": {},
   "outputs": [
    {
     "data": {
      "text/plain": [
       "True"
      ]
     },
     "execution_count": 76,
     "metadata": {},
     "output_type": "execute_result"
    }
   ],
   "source": [
    "'ABC'.isupper()"
   ]
  },
  {
   "cell_type": "code",
   "execution_count": 79,
   "id": "b3fa73e9",
   "metadata": {},
   "outputs": [
    {
     "data": {
      "text/plain": [
       "True"
      ]
     },
     "execution_count": 79,
     "metadata": {},
     "output_type": "execute_result"
    }
   ],
   "source": [
    "'Abc Def'.istitle() #타이틀 규칙에 부합하는 문자열인가?  타이틀 규칙이란 앞 글자만 대문자이고 나머지는 소문자로 구성된 것"
   ]
  },
  {
   "cell_type": "code",
   "execution_count": 82,
   "id": "2a5a6b32",
   "metadata": {},
   "outputs": [],
   "source": [
    "a='\\t \\nI like\\t\\nprogramming.\\n\\n'"
   ]
  },
  {
   "cell_type": "code",
   "execution_count": 87,
   "id": "f323b0ad",
   "metadata": {},
   "outputs": [
    {
     "data": {
      "text/plain": [
       "'I like\\t\\nprogramming.'"
      ]
     },
     "execution_count": 87,
     "metadata": {},
     "output_type": "execute_result"
    }
   ],
   "source": [
    "a.strip() #양 사이드의 공백 문자를 제거해줌 \\n \\t 같은거"
   ]
  },
  {
   "cell_type": "code",
   "execution_count": 89,
   "id": "9af6a1be",
   "metadata": {},
   "outputs": [
    {
     "data": {
      "text/plain": [
       "'\\t \\nI like\\t\\nprogramming.'"
      ]
     },
     "execution_count": 89,
     "metadata": {},
     "output_type": "execute_result"
    }
   ],
   "source": [
    "a.rstrip() # 오른쪽 사이드의 공백 문자를 제거해줌"
   ]
  },
  {
   "cell_type": "code",
   "execution_count": 91,
   "id": "61eac98d",
   "metadata": {},
   "outputs": [
    {
     "data": {
      "text/plain": [
       "'I like\\t\\nprogramming.\\n\\n'"
      ]
     },
     "execution_count": 91,
     "metadata": {},
     "output_type": "execute_result"
    }
   ],
   "source": [
    "a.lstrip() # 왼쪽 사이드의 공백 문자를 제거해줌"
   ]
  },
  {
   "cell_type": "code",
   "execution_count": 93,
   "id": "e0eaf95b",
   "metadata": {},
   "outputs": [
    {
     "data": {
      "text/plain": [
       "' \\nI like\\t\\npro'"
      ]
     },
     "execution_count": 93,
     "metadata": {},
     "output_type": "execute_result"
    }
   ],
   "source": [
    "a.strip('\\n.\\tgnimar') # 문자열 안에 들어가 있는 것들을 전부다 연속적으로 양사이드 기준으로 지워줌 "
   ]
  },
  {
   "cell_type": "code",
   "execution_count": 94,
   "id": "258b4cad",
   "metadata": {},
   "outputs": [
    {
     "data": {
      "text/plain": [
       "'\\t \\nI like\\t\\nprograMMing.\\n\\n'"
      ]
     },
     "execution_count": 94,
     "metadata": {},
     "output_type": "execute_result"
    }
   ],
   "source": [
    "a.replace(\"m\",\"M\") # 왼쪽을 오른쪽으로 바꿔라"
   ]
  },
  {
   "cell_type": "code",
   "execution_count": 95,
   "id": "b5ef98ef",
   "metadata": {},
   "outputs": [
    {
     "data": {
      "text/plain": [
       "['I', 'like', 'programming.']"
      ]
     },
     "execution_count": 95,
     "metadata": {},
     "output_type": "execute_result"
    }
   ],
   "source": [
    "a.split()"
   ]
  },
  {
   "cell_type": "code",
   "execution_count": 96,
   "id": "9f7c687d",
   "metadata": {},
   "outputs": [
    {
     "data": {
      "text/plain": [
       "['\\t ', 'I like\\t', 'programming.', '', '']"
      ]
     },
     "execution_count": 96,
     "metadata": {},
     "output_type": "execute_result"
    }
   ],
   "source": [
    "a.split('\\n')"
   ]
  },
  {
   "cell_type": "code",
   "execution_count": 97,
   "id": "c0ed00c0",
   "metadata": {},
   "outputs": [
    {
     "data": {
      "text/plain": [
       "['\\t ', 'I like\\t', 'programming.', '']"
      ]
     },
     "execution_count": 97,
     "metadata": {},
     "output_type": "execute_result"
    }
   ],
   "source": [
    "a.splitlines() #줄 별로 짜르는 거임 즉 \\n 기준으로 나누는 거임"
   ]
  },
  {
   "cell_type": "code",
   "execution_count": 98,
   "id": "9390f557",
   "metadata": {},
   "outputs": [
    {
     "data": {
      "text/plain": [
       "['\\t ', 'I like\\t', 'programming.', '']"
      ]
     },
     "execution_count": 98,
     "metadata": {},
     "output_type": "execute_result"
    }
   ],
   "source": [
    "a.splitlines(False) #\\n 안 보여주기"
   ]
  },
  {
   "cell_type": "code",
   "execution_count": 99,
   "id": "56e8bd0a",
   "metadata": {},
   "outputs": [
    {
     "data": {
      "text/plain": [
       "['\\t \\n', 'I like\\t\\n', 'programming.\\n', '\\n']"
      ]
     },
     "execution_count": 99,
     "metadata": {},
     "output_type": "execute_result"
    }
   ],
   "source": [
    "a.splitlines(True) #\\n 보여주기"
   ]
  },
  {
   "cell_type": "code",
   "execution_count": 101,
   "id": "4da1685a",
   "metadata": {},
   "outputs": [
    {
     "data": {
      "text/plain": [
       "('\\t \\nI like\\t\\nprogrammi', 'n', 'g.\\n\\n')"
      ]
     },
     "execution_count": 101,
     "metadata": {},
     "output_type": "execute_result"
    }
   ],
   "source": [
    "a.partition(\"n\") # 3분할, 튜플로 출력 "
   ]
  },
  {
   "cell_type": "code",
   "execution_count": 103,
   "id": "1373099c",
   "metadata": {},
   "outputs": [
    {
     "data": {
      "text/plain": [
       "'I:like:programming.'"
      ]
     },
     "execution_count": 103,
     "metadata": {},
     "output_type": "execute_result"
    }
   ],
   "source": [
    "\":\".join(a.split()) # 리스트의 원소들 사이 사이에 :를 넣어서 합쳐줌"
   ]
  },
  {
   "cell_type": "markdown",
   "id": "c2d77b48",
   "metadata": {},
   "source": [
    "# 연습문제 1"
   ]
  },
  {
   "cell_type": "code",
   "execution_count": 106,
   "id": "c0214d9c",
   "metadata": {},
   "outputs": [
    {
     "name": "stdout",
     "output_type": "stream",
     "text": [
      "\n",
      "abc\n",
      "abc\n",
      "abc\n"
     ]
    }
   ],
   "source": [
    "a='\\nabc\\nabc\\nabc'\n",
    "print(a)"
   ]
  },
  {
   "cell_type": "code",
   "execution_count": 114,
   "id": "b56c851a",
   "metadata": {},
   "outputs": [
    {
     "data": {
      "text/plain": [
       "['\\n', 'abc\\n', 'abc\\n']"
      ]
     },
     "execution_count": 114,
     "metadata": {},
     "output_type": "execute_result"
    }
   ],
   "source": [
    "a.rstrip(\"abc\").splitlines(True)"
   ]
  },
  {
   "cell_type": "markdown",
   "id": "3be2c66a",
   "metadata": {},
   "source": [
    "# 연습문제 2"
   ]
  },
  {
   "cell_type": "code",
   "execution_count": 122,
   "id": "6fb25d18",
   "metadata": {},
   "outputs": [
    {
     "data": {
      "text/plain": [
       "'A*:*apple'"
      ]
     },
     "execution_count": 122,
     "metadata": {},
     "output_type": "execute_result"
    }
   ],
   "source": [
    "a=\"A:apple\"\n",
    "b=\"*\".join(a.partition(\":\"))\n",
    "b"
   ]
  },
  {
   "cell_type": "code",
   "execution_count": 126,
   "id": "c0f756cb",
   "metadata": {},
   "outputs": [
    {
     "data": {
      "text/plain": [
       "['A', 'Apple']"
      ]
     },
     "execution_count": 126,
     "metadata": {},
     "output_type": "execute_result"
    }
   ],
   "source": [
    "a=\"A:apple\"\n",
    "b=a.title().split(\":\")\n",
    "b"
   ]
  },
  {
   "cell_type": "markdown",
   "id": "13d01dcf",
   "metadata": {},
   "source": [
    "# 리스트 메서드"
   ]
  },
  {
   "cell_type": "code",
   "execution_count": 128,
   "id": "c33f2a66",
   "metadata": {},
   "outputs": [],
   "source": [
    "a=[1,2,1,2,3]"
   ]
  },
  {
   "cell_type": "code",
   "execution_count": 130,
   "id": "9b56d135",
   "metadata": {},
   "outputs": [
    {
     "data": {
      "text/plain": [
       "[1, 2, 1, 2, 3, 3, 3]"
      ]
     },
     "execution_count": 130,
     "metadata": {},
     "output_type": "execute_result"
    }
   ],
   "source": [
    "a.append(3);a"
   ]
  },
  {
   "cell_type": "code",
   "execution_count": 131,
   "id": "0d2814f2",
   "metadata": {},
   "outputs": [
    {
     "data": {
      "text/plain": [
       "[1, 2, 1, 2, 3, 3, 3, 4, 5]"
      ]
     },
     "execution_count": 131,
     "metadata": {},
     "output_type": "execute_result"
    }
   ],
   "source": [
    "a.extend([4,5]);a # append를 2개 동시에 하기 "
   ]
  },
  {
   "cell_type": "code",
   "execution_count": 132,
   "id": "17cc669a",
   "metadata": {},
   "outputs": [
    {
     "data": {
      "text/plain": [
       "[1, 1, 2, 3, 3, 3, 4, 5]"
      ]
     },
     "execution_count": 132,
     "metadata": {},
     "output_type": "execute_result"
    }
   ],
   "source": [
    "a.remove(2);a"
   ]
  },
  {
   "cell_type": "code",
   "execution_count": 133,
   "id": "be6a971d",
   "metadata": {},
   "outputs": [
    {
     "data": {
      "text/plain": [
       "[1, 1, 10, 2, 3, 3, 3, 4, 5]"
      ]
     },
     "execution_count": 133,
     "metadata": {},
     "output_type": "execute_result"
    }
   ],
   "source": [
    "a.insert(2,10);a"
   ]
  },
  {
   "cell_type": "code",
   "execution_count": 134,
   "id": "e5ece92c",
   "metadata": {},
   "outputs": [
    {
     "data": {
      "text/plain": [
       "3"
      ]
     },
     "execution_count": 134,
     "metadata": {},
     "output_type": "execute_result"
    }
   ],
   "source": [
    "a.count(3)"
   ]
  },
  {
   "cell_type": "code",
   "execution_count": 135,
   "id": "766f768f",
   "metadata": {},
   "outputs": [
    {
     "data": {
      "text/plain": [
       "[5, 4, 3, 3, 3, 2, 10, 1, 1]"
      ]
     },
     "execution_count": 135,
     "metadata": {},
     "output_type": "execute_result"
    }
   ],
   "source": [
    "a.reverse();a"
   ]
  },
  {
   "cell_type": "code",
   "execution_count": 136,
   "id": "4e1def68",
   "metadata": {},
   "outputs": [
    {
     "data": {
      "text/plain": [
       "[1, 1, 2, 3, 3, 3, 4, 5, 10]"
      ]
     },
     "execution_count": 136,
     "metadata": {},
     "output_type": "execute_result"
    }
   ],
   "source": [
    "a.sort();a"
   ]
  },
  {
   "cell_type": "code",
   "execution_count": 137,
   "id": "467f0d91",
   "metadata": {},
   "outputs": [
    {
     "data": {
      "text/plain": [
       "[10, 5, 4, 3, 3, 3, 2, 1, 1]"
      ]
     },
     "execution_count": 137,
     "metadata": {},
     "output_type": "execute_result"
    }
   ],
   "source": [
    "a.sort(reverse=True);a"
   ]
  },
  {
   "cell_type": "markdown",
   "id": "82011ed2",
   "metadata": {},
   "source": [
    "# 사전 메서드"
   ]
  },
  {
   "cell_type": "code",
   "execution_count": 139,
   "id": "9b9b5323",
   "metadata": {},
   "outputs": [
    {
     "data": {
      "text/plain": [
       "2"
      ]
     },
     "execution_count": 139,
     "metadata": {},
     "output_type": "execute_result"
    }
   ],
   "source": [
    "a={\"b\":1,'a':2}\n",
    "a['a']"
   ]
  },
  {
   "cell_type": "code",
   "execution_count": 141,
   "id": "917874ed",
   "metadata": {},
   "outputs": [
    {
     "data": {
      "text/plain": [
       "{'b': 1, 'a': 3}"
      ]
     },
     "execution_count": 141,
     "metadata": {},
     "output_type": "execute_result"
    }
   ],
   "source": [
    "a['a']=3;a"
   ]
  },
  {
   "cell_type": "code",
   "execution_count": 142,
   "id": "796d4c8c",
   "metadata": {},
   "outputs": [
    {
     "data": {
      "text/plain": [
       "{'b': 1, 'a': 3, 'c': 3}"
      ]
     },
     "execution_count": 142,
     "metadata": {},
     "output_type": "execute_result"
    }
   ],
   "source": [
    "a['c']=3;a"
   ]
  },
  {
   "cell_type": "code",
   "execution_count": 143,
   "id": "16f0f42d",
   "metadata": {},
   "outputs": [
    {
     "data": {
      "text/plain": [
       "dict_values([1, 3, 3])"
      ]
     },
     "execution_count": 143,
     "metadata": {},
     "output_type": "execute_result"
    }
   ],
   "source": [
    "a.values()"
   ]
  },
  {
   "cell_type": "code",
   "execution_count": 144,
   "id": "49e2ac0f",
   "metadata": {},
   "outputs": [
    {
     "data": {
      "text/plain": [
       "dict_keys(['b', 'a', 'c'])"
      ]
     },
     "execution_count": 144,
     "metadata": {},
     "output_type": "execute_result"
    }
   ],
   "source": [
    "a.keys()"
   ]
  },
  {
   "cell_type": "code",
   "execution_count": 146,
   "id": "574bd3dd",
   "metadata": {},
   "outputs": [
    {
     "data": {
      "text/plain": [
       "dict_items([('b', 1), ('a', 3), ('c', 3)])"
      ]
     },
     "execution_count": 146,
     "metadata": {},
     "output_type": "execute_result"
    }
   ],
   "source": [
    "a.items()"
   ]
  },
  {
   "cell_type": "code",
   "execution_count": 147,
   "id": "be1ba92c",
   "metadata": {},
   "outputs": [
    {
     "data": {
      "text/plain": [
       "{'b': 4, 'a': 3, 'c': 3, 'd': 5}"
      ]
     },
     "execution_count": 147,
     "metadata": {},
     "output_type": "execute_result"
    }
   ],
   "source": [
    "a.update({'b':4,'d':5});a # append 동시에 2개 하기 "
   ]
  },
  {
   "cell_type": "markdown",
   "id": "4376df47",
   "metadata": {},
   "source": [
    "# 연습문제 3"
   ]
  },
  {
   "cell_type": "code",
   "execution_count": 149,
   "id": "bdb5cf5c",
   "metadata": {},
   "outputs": [
    {
     "data": {
      "text/plain": [
       "['I',\n",
       " ' ',\n",
       " 'a',\n",
       " 'm',\n",
       " ' ',\n",
       " 'n',\n",
       " 'o',\n",
       " 't',\n",
       " ' ',\n",
       " 'g',\n",
       " 'o',\n",
       " 'o',\n",
       " 'd',\n",
       " ' ',\n",
       " 'i',\n",
       " 'n',\n",
       " ' ',\n",
       " 'p',\n",
       " 'r',\n",
       " 'o',\n",
       " 'g',\n",
       " 'r',\n",
       " 'a',\n",
       " 'm',\n",
       " 'm',\n",
       " 'i',\n",
       " 'n',\n",
       " 'g',\n",
       " '.']"
      ]
     },
     "execution_count": 149,
     "metadata": {},
     "output_type": "execute_result"
    }
   ],
   "source": [
    "a='I am not good in programming.'\n",
    "b=list(a);b"
   ]
  },
  {
   "cell_type": "code",
   "execution_count": 150,
   "id": "c9b78f01",
   "metadata": {},
   "outputs": [
    {
     "data": {
      "text/plain": [
       "['g', 'm', 't', 'i', 'o', 'd', 'p', 'a', '.', ' ', 'n', 'r', 'I']"
      ]
     },
     "execution_count": 150,
     "metadata": {},
     "output_type": "execute_result"
    }
   ],
   "source": [
    "b=list(set(a));b"
   ]
  },
  {
   "cell_type": "code",
   "execution_count": 153,
   "id": "5f868683",
   "metadata": {},
   "outputs": [
    {
     "data": {
      "text/plain": [
       "{'I': 1,\n",
       " ' ': 5,\n",
       " 'a': 2,\n",
       " 'm': 3,\n",
       " 'n': 3,\n",
       " 'o': 4,\n",
       " 't': 1,\n",
       " 'g': 3,\n",
       " 'd': 1,\n",
       " 'i': 2,\n",
       " 'p': 1,\n",
       " 'r': 2,\n",
       " '.': 1}"
      ]
     },
     "execution_count": 153,
     "metadata": {},
     "output_type": "execute_result"
    }
   ],
   "source": [
    "b={}\n",
    "for i in a:\n",
    "    b[i]=a.count(i)\n",
    "b"
   ]
  },
  {
   "cell_type": "code",
   "execution_count": 154,
   "id": "4aad9138",
   "metadata": {},
   "outputs": [
    {
     "data": {
      "text/plain": [
       "[('I', 1),\n",
       " (' ', 5),\n",
       " ('a', 2),\n",
       " ('m', 3),\n",
       " ('n', 3),\n",
       " ('o', 4),\n",
       " ('t', 1),\n",
       " ('g', 3),\n",
       " ('d', 1),\n",
       " ('i', 2),\n",
       " ('p', 1),\n",
       " ('r', 2),\n",
       " ('.', 1)]"
      ]
     },
     "execution_count": 154,
     "metadata": {},
     "output_type": "execute_result"
    }
   ],
   "source": [
    "c=list(b.items())\n",
    "c"
   ]
  },
  {
   "cell_type": "code",
   "execution_count": null,
   "id": "5b1e4b22",
   "metadata": {},
   "outputs": [],
   "source": []
  }
 ],
 "metadata": {
  "kernelspec": {
   "display_name": "Python 3 (ipykernel)",
   "language": "python",
   "name": "python3"
  },
  "language_info": {
   "codemirror_mode": {
    "name": "ipython",
    "version": 3
   },
   "file_extension": ".py",
   "mimetype": "text/x-python",
   "name": "python",
   "nbconvert_exporter": "python",
   "pygments_lexer": "ipython3",
   "version": "3.9.7"
  }
 },
 "nbformat": 4,
 "nbformat_minor": 5
}
