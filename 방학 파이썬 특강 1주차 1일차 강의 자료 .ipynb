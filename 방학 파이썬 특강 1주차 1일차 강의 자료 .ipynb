{
 "cells": [
  {
   "cell_type": "markdown",
   "id": "9f3248bd",
   "metadata": {},
   "source": [
    "# Atomic Value 와 함수 Type"
   ]
  },
  {
   "cell_type": "code",
   "execution_count": 1,
   "id": "4f61d28c",
   "metadata": {},
   "outputs": [
    {
     "data": {
      "text/plain": [
       "13"
      ]
     },
     "execution_count": 1,
     "metadata": {},
     "output_type": "execute_result"
    }
   ],
   "source": [
    "13"
   ]
  },
  {
   "cell_type": "code",
   "execution_count": 2,
   "id": "aefaa440",
   "metadata": {},
   "outputs": [
    {
     "data": {
      "text/plain": [
       "int"
      ]
     },
     "execution_count": 2,
     "metadata": {},
     "output_type": "execute_result"
    }
   ],
   "source": [
    "type(13)"
   ]
  },
  {
   "cell_type": "code",
   "execution_count": 3,
   "id": "90a059b8",
   "metadata": {},
   "outputs": [
    {
     "data": {
      "text/plain": [
       "13.5"
      ]
     },
     "execution_count": 3,
     "metadata": {},
     "output_type": "execute_result"
    }
   ],
   "source": [
    "13.5"
   ]
  },
  {
   "cell_type": "code",
   "execution_count": 4,
   "id": "e030ac5f",
   "metadata": {},
   "outputs": [
    {
     "data": {
      "text/plain": [
       "float"
      ]
     },
     "execution_count": 4,
     "metadata": {},
     "output_type": "execute_result"
    }
   ],
   "source": [
    "type(13.5)"
   ]
  },
  {
   "cell_type": "code",
   "execution_count": 5,
   "id": "eab639c7",
   "metadata": {},
   "outputs": [
    {
     "data": {
      "text/plain": [
       "'apple'"
      ]
     },
     "execution_count": 5,
     "metadata": {},
     "output_type": "execute_result"
    }
   ],
   "source": [
    "'apple'"
   ]
  },
  {
   "cell_type": "code",
   "execution_count": 6,
   "id": "a4d36243",
   "metadata": {},
   "outputs": [
    {
     "data": {
      "text/plain": [
       "str"
      ]
     },
     "execution_count": 6,
     "metadata": {},
     "output_type": "execute_result"
    }
   ],
   "source": [
    "type('apple')"
   ]
  },
  {
   "cell_type": "code",
   "execution_count": 7,
   "id": "15d8d2e7",
   "metadata": {},
   "outputs": [
    {
     "data": {
      "text/plain": [
       "'한글'"
      ]
     },
     "execution_count": 7,
     "metadata": {},
     "output_type": "execute_result"
    }
   ],
   "source": [
    "'한글'"
   ]
  },
  {
   "cell_type": "code",
   "execution_count": 8,
   "id": "e51ae44c",
   "metadata": {},
   "outputs": [
    {
     "data": {
      "text/plain": [
       "str"
      ]
     },
     "execution_count": 8,
     "metadata": {},
     "output_type": "execute_result"
    }
   ],
   "source": [
    "type(\"한글\")"
   ]
  },
  {
   "cell_type": "code",
   "execution_count": 9,
   "id": "2f01791d",
   "metadata": {},
   "outputs": [
    {
     "data": {
      "text/plain": [
       "True"
      ]
     },
     "execution_count": 9,
     "metadata": {},
     "output_type": "execute_result"
    }
   ],
   "source": [
    "True"
   ]
  },
  {
   "cell_type": "code",
   "execution_count": 10,
   "id": "27ca462b",
   "metadata": {},
   "outputs": [
    {
     "data": {
      "text/plain": [
       "bool"
      ]
     },
     "execution_count": 10,
     "metadata": {},
     "output_type": "execute_result"
    }
   ],
   "source": [
    "type(True)"
   ]
  },
  {
   "cell_type": "code",
   "execution_count": 11,
   "id": "2a25dfd1",
   "metadata": {},
   "outputs": [
    {
     "data": {
      "text/plain": [
       "False"
      ]
     },
     "execution_count": 11,
     "metadata": {},
     "output_type": "execute_result"
    }
   ],
   "source": [
    "False"
   ]
  },
  {
   "cell_type": "code",
   "execution_count": 12,
   "id": "029a0d0d",
   "metadata": {},
   "outputs": [
    {
     "data": {
      "text/plain": [
       "bool"
      ]
     },
     "execution_count": 12,
     "metadata": {},
     "output_type": "execute_result"
    }
   ],
   "source": [
    "type(False)"
   ]
  },
  {
   "cell_type": "markdown",
   "id": "4ec6334a",
   "metadata": {},
   "source": [
    "# atomic Value의 데이터 타입 변환"
   ]
  },
  {
   "cell_type": "code",
   "execution_count": 15,
   "id": "d44ba2a1",
   "metadata": {},
   "outputs": [
    {
     "data": {
      "text/plain": [
       "13.0"
      ]
     },
     "execution_count": 15,
     "metadata": {},
     "output_type": "execute_result"
    }
   ],
   "source": [
    "float(13)"
   ]
  },
  {
   "cell_type": "code",
   "execution_count": 16,
   "id": "63e0947a",
   "metadata": {},
   "outputs": [
    {
     "data": {
      "text/plain": [
       "1"
      ]
     },
     "execution_count": 16,
     "metadata": {},
     "output_type": "execute_result"
    }
   ],
   "source": [
    "int(1.23)"
   ]
  },
  {
   "cell_type": "code",
   "execution_count": 17,
   "id": "adb0c07d",
   "metadata": {},
   "outputs": [
    {
     "data": {
      "text/plain": [
       "'13'"
      ]
     },
     "execution_count": 17,
     "metadata": {},
     "output_type": "execute_result"
    }
   ],
   "source": [
    "str(13)"
   ]
  },
  {
   "cell_type": "code",
   "execution_count": 18,
   "id": "1140d0e6",
   "metadata": {},
   "outputs": [
    {
     "data": {
      "text/plain": [
       "'True'"
      ]
     },
     "execution_count": 18,
     "metadata": {},
     "output_type": "execute_result"
    }
   ],
   "source": [
    "str(True)"
   ]
  },
  {
   "cell_type": "code",
   "execution_count": 19,
   "id": "c6ff123f",
   "metadata": {},
   "outputs": [
    {
     "data": {
      "text/plain": [
       "1"
      ]
     },
     "execution_count": 19,
     "metadata": {},
     "output_type": "execute_result"
    }
   ],
   "source": [
    "int(True)"
   ]
  },
  {
   "cell_type": "code",
   "execution_count": 20,
   "id": "d86c08d8",
   "metadata": {},
   "outputs": [
    {
     "data": {
      "text/plain": [
       "0"
      ]
     },
     "execution_count": 20,
     "metadata": {},
     "output_type": "execute_result"
    }
   ],
   "source": [
    "int(False)"
   ]
  },
  {
   "cell_type": "code",
   "execution_count": 22,
   "id": "be1cb6b9",
   "metadata": {},
   "outputs": [
    {
     "data": {
      "text/plain": [
       "1.0"
      ]
     },
     "execution_count": 22,
     "metadata": {},
     "output_type": "execute_result"
    }
   ],
   "source": [
    "float(1.0)"
   ]
  },
  {
   "cell_type": "code",
   "execution_count": 24,
   "id": "bfc73f91",
   "metadata": {},
   "outputs": [
    {
     "data": {
      "text/plain": [
       "0.0"
      ]
     },
     "execution_count": 24,
     "metadata": {},
     "output_type": "execute_result"
    }
   ],
   "source": [
    "float(0.0)"
   ]
  },
  {
   "cell_type": "code",
   "execution_count": 25,
   "id": "050ad3bd",
   "metadata": {},
   "outputs": [
    {
     "data": {
      "text/plain": [
       "True"
      ]
     },
     "execution_count": 25,
     "metadata": {},
     "output_type": "execute_result"
    }
   ],
   "source": [
    "bool(1)"
   ]
  },
  {
   "cell_type": "code",
   "execution_count": 26,
   "id": "405aceaf",
   "metadata": {},
   "outputs": [
    {
     "data": {
      "text/plain": [
       "False"
      ]
     },
     "execution_count": 26,
     "metadata": {},
     "output_type": "execute_result"
    }
   ],
   "source": [
    "bool(0)"
   ]
  },
  {
   "cell_type": "code",
   "execution_count": 27,
   "id": "d1df6f50",
   "metadata": {},
   "outputs": [
    {
     "data": {
      "text/plain": [
       "True"
      ]
     },
     "execution_count": 27,
     "metadata": {},
     "output_type": "execute_result"
    }
   ],
   "source": [
    "bool(\"A\")"
   ]
  },
  {
   "cell_type": "code",
   "execution_count": 28,
   "id": "7999c1e9",
   "metadata": {},
   "outputs": [
    {
     "data": {
      "text/plain": [
       "False"
      ]
     },
     "execution_count": 28,
     "metadata": {},
     "output_type": "execute_result"
    }
   ],
   "source": [
    "bool(\"\")"
   ]
  },
  {
   "cell_type": "markdown",
   "id": "70c75415",
   "metadata": {},
   "source": [
    "# 산술 연산자"
   ]
  },
  {
   "cell_type": "code",
   "execution_count": 30,
   "id": "32149bb9",
   "metadata": {},
   "outputs": [],
   "source": [
    "a=10\n",
    "b=2"
   ]
  },
  {
   "cell_type": "code",
   "execution_count": 31,
   "id": "3506cd6f",
   "metadata": {},
   "outputs": [
    {
     "data": {
      "text/plain": [
       "12"
      ]
     },
     "execution_count": 31,
     "metadata": {},
     "output_type": "execute_result"
    }
   ],
   "source": [
    "a+b"
   ]
  },
  {
   "cell_type": "code",
   "execution_count": 32,
   "id": "29ddc653",
   "metadata": {},
   "outputs": [
    {
     "data": {
      "text/plain": [
       "8"
      ]
     },
     "execution_count": 32,
     "metadata": {},
     "output_type": "execute_result"
    }
   ],
   "source": [
    "a-b"
   ]
  },
  {
   "cell_type": "code",
   "execution_count": 33,
   "id": "20619442",
   "metadata": {},
   "outputs": [
    {
     "data": {
      "text/plain": [
       "5.0"
      ]
     },
     "execution_count": 33,
     "metadata": {},
     "output_type": "execute_result"
    }
   ],
   "source": [
    "a/b"
   ]
  },
  {
   "cell_type": "code",
   "execution_count": 34,
   "id": "e3620d37",
   "metadata": {},
   "outputs": [
    {
     "data": {
      "text/plain": [
       "20"
      ]
     },
     "execution_count": 34,
     "metadata": {},
     "output_type": "execute_result"
    }
   ],
   "source": [
    "a*b"
   ]
  },
  {
   "cell_type": "code",
   "execution_count": 35,
   "id": "381e4205",
   "metadata": {},
   "outputs": [
    {
     "data": {
      "text/plain": [
       "100"
      ]
     },
     "execution_count": 35,
     "metadata": {},
     "output_type": "execute_result"
    }
   ],
   "source": [
    "a**b"
   ]
  },
  {
   "cell_type": "code",
   "execution_count": 39,
   "id": "5ebda901",
   "metadata": {},
   "outputs": [
    {
     "data": {
      "text/plain": [
       "2"
      ]
     },
     "execution_count": 39,
     "metadata": {},
     "output_type": "execute_result"
    }
   ],
   "source": [
    "a&b"
   ]
  },
  {
   "cell_type": "code",
   "execution_count": 40,
   "id": "f9097217",
   "metadata": {},
   "outputs": [
    {
     "data": {
      "text/plain": [
       "5"
      ]
     },
     "execution_count": 40,
     "metadata": {},
     "output_type": "execute_result"
    }
   ],
   "source": [
    "a//b"
   ]
  },
  {
   "cell_type": "markdown",
   "id": "45683512",
   "metadata": {},
   "source": [
    "# 비교 및 논리 연산자"
   ]
  },
  {
   "cell_type": "code",
   "execution_count": 42,
   "id": "e15c2b06",
   "metadata": {},
   "outputs": [
    {
     "data": {
      "text/plain": [
       "False"
      ]
     },
     "execution_count": 42,
     "metadata": {},
     "output_type": "execute_result"
    }
   ],
   "source": [
    "'a'==\"b\""
   ]
  },
  {
   "cell_type": "code",
   "execution_count": 43,
   "id": "1ca7e677",
   "metadata": {},
   "outputs": [
    {
     "data": {
      "text/plain": [
       "False"
      ]
     },
     "execution_count": 43,
     "metadata": {},
     "output_type": "execute_result"
    }
   ],
   "source": [
    "'A'>='B'"
   ]
  },
  {
   "cell_type": "code",
   "execution_count": 44,
   "id": "ceeda6c8",
   "metadata": {},
   "outputs": [
    {
     "data": {
      "text/plain": [
       "False"
      ]
     },
     "execution_count": 44,
     "metadata": {},
     "output_type": "execute_result"
    }
   ],
   "source": [
    "1>=2"
   ]
  },
  {
   "cell_type": "code",
   "execution_count": 45,
   "id": "7b1ee7b7",
   "metadata": {},
   "outputs": [
    {
     "data": {
      "text/plain": [
       "True"
      ]
     },
     "execution_count": 45,
     "metadata": {},
     "output_type": "execute_result"
    }
   ],
   "source": [
    "2>=1"
   ]
  },
  {
   "cell_type": "code",
   "execution_count": 46,
   "id": "13521222",
   "metadata": {},
   "outputs": [
    {
     "data": {
      "text/plain": [
       "False"
      ]
     },
     "execution_count": 46,
     "metadata": {},
     "output_type": "execute_result"
    }
   ],
   "source": [
    "not True"
   ]
  },
  {
   "cell_type": "code",
   "execution_count": 47,
   "id": "fca67831",
   "metadata": {},
   "outputs": [
    {
     "data": {
      "text/plain": [
       "True"
      ]
     },
     "execution_count": 47,
     "metadata": {},
     "output_type": "execute_result"
    }
   ],
   "source": [
    "True or False"
   ]
  },
  {
   "cell_type": "code",
   "execution_count": 48,
   "id": "2250ef29",
   "metadata": {},
   "outputs": [
    {
     "data": {
      "text/plain": [
       "False"
      ]
     },
     "execution_count": 48,
     "metadata": {},
     "output_type": "execute_result"
    }
   ],
   "source": [
    "True and False"
   ]
  },
  {
   "cell_type": "markdown",
   "id": "04b9850b",
   "metadata": {},
   "source": [
    "# 치환문"
   ]
  },
  {
   "cell_type": "code",
   "execution_count": 50,
   "id": "f132e2bd",
   "metadata": {},
   "outputs": [],
   "source": [
    "a=2"
   ]
  },
  {
   "cell_type": "code",
   "execution_count": 51,
   "id": "845c47d3",
   "metadata": {},
   "outputs": [],
   "source": [
    "b=2+a"
   ]
  },
  {
   "cell_type": "code",
   "execution_count": 52,
   "id": "208ce849",
   "metadata": {},
   "outputs": [
    {
     "data": {
      "text/plain": [
       "4"
      ]
     },
     "execution_count": 52,
     "metadata": {},
     "output_type": "execute_result"
    }
   ],
   "source": [
    "b"
   ]
  },
  {
   "cell_type": "code",
   "execution_count": 58,
   "id": "f67da7ad",
   "metadata": {},
   "outputs": [
    {
     "data": {
      "text/plain": [
       "5"
      ]
     },
     "execution_count": 58,
     "metadata": {},
     "output_type": "execute_result"
    }
   ],
   "source": [
    "a=1;a=a+4;a"
   ]
  },
  {
   "cell_type": "code",
   "execution_count": 59,
   "id": "0f66d5c2",
   "metadata": {},
   "outputs": [
    {
     "data": {
      "text/plain": [
       "2"
      ]
     },
     "execution_count": 59,
     "metadata": {},
     "output_type": "execute_result"
    }
   ],
   "source": [
    "a=a-3;a"
   ]
  },
  {
   "cell_type": "code",
   "execution_count": 60,
   "id": "f5ef776e",
   "metadata": {},
   "outputs": [],
   "source": [
    "# 기본 데이터 구조와 함수 type"
   ]
  },
  {
   "cell_type": "code",
   "execution_count": 61,
   "id": "ee058461",
   "metadata": {},
   "outputs": [
    {
     "data": {
      "text/plain": [
       "str"
      ]
     },
     "execution_count": 61,
     "metadata": {},
     "output_type": "execute_result"
    }
   ],
   "source": [
    "a='abab'\n",
    "type(a)"
   ]
  },
  {
   "cell_type": "code",
   "execution_count": 62,
   "id": "cbc0c7c3",
   "metadata": {},
   "outputs": [
    {
     "data": {
      "text/plain": [
       "['a', 'b', 'a', 'b']"
      ]
     },
     "execution_count": 62,
     "metadata": {},
     "output_type": "execute_result"
    }
   ],
   "source": [
    "list(a)"
   ]
  },
  {
   "cell_type": "code",
   "execution_count": 64,
   "id": "bf48f33b",
   "metadata": {},
   "outputs": [
    {
     "data": {
      "text/plain": [
       "list"
      ]
     },
     "execution_count": 64,
     "metadata": {},
     "output_type": "execute_result"
    }
   ],
   "source": [
    "type(list(a))"
   ]
  },
  {
   "cell_type": "code",
   "execution_count": 66,
   "id": "c69a58fe",
   "metadata": {},
   "outputs": [
    {
     "data": {
      "text/plain": [
       "('a', 'b', 'a', 'b')"
      ]
     },
     "execution_count": 66,
     "metadata": {},
     "output_type": "execute_result"
    }
   ],
   "source": [
    "tuple(a)"
   ]
  },
  {
   "cell_type": "code",
   "execution_count": 68,
   "id": "e5807dc2",
   "metadata": {},
   "outputs": [
    {
     "data": {
      "text/plain": [
       "tuple"
      ]
     },
     "execution_count": 68,
     "metadata": {},
     "output_type": "execute_result"
    }
   ],
   "source": [
    "type(tuple(a))"
   ]
  },
  {
   "cell_type": "code",
   "execution_count": 69,
   "id": "4d4c569e",
   "metadata": {},
   "outputs": [
    {
     "data": {
      "text/plain": [
       "{'a', 'b'}"
      ]
     },
     "execution_count": 69,
     "metadata": {},
     "output_type": "execute_result"
    }
   ],
   "source": [
    "set(a)"
   ]
  },
  {
   "cell_type": "code",
   "execution_count": 70,
   "id": "a54c5282",
   "metadata": {},
   "outputs": [
    {
     "data": {
      "text/plain": [
       "set"
      ]
     },
     "execution_count": 70,
     "metadata": {},
     "output_type": "execute_result"
    }
   ],
   "source": [
    "type(set(a))"
   ]
  },
  {
   "cell_type": "code",
   "execution_count": 72,
   "id": "994643aa",
   "metadata": {},
   "outputs": [
    {
     "data": {
      "text/plain": [
       "{'A': 'b', 'B': 'c'}"
      ]
     },
     "execution_count": 72,
     "metadata": {},
     "output_type": "execute_result"
    }
   ],
   "source": [
    "dict(((\"A\"\"b\"),(\"B\",\"c\")))"
   ]
  },
  {
   "cell_type": "code",
   "execution_count": 73,
   "id": "ef45e77b",
   "metadata": {},
   "outputs": [
    {
     "data": {
      "text/plain": [
       "dict"
      ]
     },
     "execution_count": 73,
     "metadata": {},
     "output_type": "execute_result"
    }
   ],
   "source": [
    "type(dict(((\"A\"\"b\"),(\"B\",\"c\"))))"
   ]
  },
  {
   "cell_type": "markdown",
   "id": "408136f7",
   "metadata": {},
   "source": [
    "# 제어문 If"
   ]
  },
  {
   "cell_type": "code",
   "execution_count": 77,
   "id": "34d90e98",
   "metadata": {},
   "outputs": [
    {
     "name": "stdout",
     "output_type": "stream",
     "text": [
      "축하합니다\n"
     ]
    }
   ],
   "source": [
    "score=95\n",
    "if score>=90:\n",
    "    print(\"축하합니다\")\n",
    "else:\n",
    "    print(\"다음 기회에\")"
   ]
  },
  {
   "cell_type": "code",
   "execution_count": 78,
   "id": "d786298b",
   "metadata": {},
   "outputs": [
    {
     "name": "stdout",
     "output_type": "stream",
     "text": [
      "다음 기회에\n"
     ]
    }
   ],
   "source": [
    "score=80\n",
    "if score>=90:\n",
    "    print(\"축하합니다\")\n",
    "else:\n",
    "    print(\"다음 기회에\")"
   ]
  },
  {
   "cell_type": "markdown",
   "id": "14b382a8",
   "metadata": {},
   "source": [
    "# 제어문: for 문"
   ]
  },
  {
   "cell_type": "code",
   "execution_count": 82,
   "id": "65bfbe21",
   "metadata": {},
   "outputs": [
    {
     "name": "stdout",
     "output_type": "stream",
     "text": [
      "cat 3\n",
      "cow 3\n",
      "tiger 5\n"
     ]
    }
   ],
   "source": [
    "a=['cat','cow','tiger']\n",
    "for i in a:\n",
    "    print(i, len(i))"
   ]
  },
  {
   "cell_type": "markdown",
   "id": "6c5c7c9b",
   "metadata": {},
   "source": [
    "# 제어문: While 문"
   ]
  },
  {
   "cell_type": "code",
   "execution_count": 85,
   "id": "b961ba22",
   "metadata": {},
   "outputs": [
    {
     "name": "stdout",
     "output_type": "stream",
     "text": [
      "1\n",
      "2\n",
      "3\n",
      "4\n",
      "5\n",
      "6\n",
      "7\n",
      "8\n",
      "9\n"
     ]
    }
   ],
   "source": [
    "a =1\n",
    "while a<10:\n",
    "    print(a)\n",
    "    a=a+1"
   ]
  },
  {
   "cell_type": "markdown",
   "id": "ae113c6e",
   "metadata": {},
   "source": [
    "# 연습문제 1"
   ]
  },
  {
   "cell_type": "code",
   "execution_count": 87,
   "id": "abb94596",
   "metadata": {},
   "outputs": [
    {
     "name": "stdout",
     "output_type": "stream",
     "text": [
      "2 2\n",
      "4 6\n",
      "6 12\n",
      "8 20\n",
      "10 30\n",
      "12 42\n",
      "14 56\n",
      "16 72\n",
      "18 90\n",
      "20 110\n",
      "22 132\n",
      "24 156\n",
      "26 182\n",
      "28 210\n",
      "30 240\n",
      "32 272\n",
      "34 306\n",
      "36 342\n",
      "38 380\n",
      "40 420\n",
      "42 462\n",
      "44 506\n",
      "46 552\n",
      "48 600\n",
      "50 650\n",
      "52 702\n",
      "54 756\n",
      "56 812\n",
      "58 870\n",
      "60 930\n",
      "62 992\n",
      "64 1056\n",
      "66 1122\n",
      "68 1190\n",
      "70 1260\n",
      "72 1332\n",
      "74 1406\n",
      "76 1482\n",
      "78 1560\n",
      "80 1640\n",
      "82 1722\n",
      "84 1806\n",
      "86 1892\n",
      "88 1980\n",
      "90 2070\n",
      "92 2162\n",
      "94 2256\n",
      "96 2352\n",
      "98 2450\n",
      "100 2550\n"
     ]
    }
   ],
   "source": [
    "total=0\n",
    "a=2\n",
    "while a<=100:\n",
    "    total=total+a\n",
    "    print(a,total)\n",
    "    a=a+2"
   ]
  },
  {
   "cell_type": "markdown",
   "id": "4e0c023d",
   "metadata": {},
   "source": [
    "# 연습문제 2"
   ]
  },
  {
   "cell_type": "code",
   "execution_count": 90,
   "id": "e7852fed",
   "metadata": {},
   "outputs": [
    {
     "name": "stdout",
     "output_type": "stream",
     "text": [
      "tiger\n",
      "elephant\n"
     ]
    }
   ],
   "source": [
    "a=['cat','tiger','elephant']\n",
    "for i in a:\n",
    "    if len(i)>3:\n",
    "        print(i)"
   ]
  },
  {
   "cell_type": "code",
   "execution_count": null,
   "id": "df74dcba",
   "metadata": {},
   "outputs": [],
   "source": []
  }
 ],
 "metadata": {
  "kernelspec": {
   "display_name": "Python 3 (ipykernel)",
   "language": "python",
   "name": "python3"
  },
  "language_info": {
   "codemirror_mode": {
    "name": "ipython",
    "version": 3
   },
   "file_extension": ".py",
   "mimetype": "text/x-python",
   "name": "python",
   "nbconvert_exporter": "python",
   "pygments_lexer": "ipython3",
   "version": "3.9.7"
  }
 },
 "nbformat": 4,
 "nbformat_minor": 5
}
