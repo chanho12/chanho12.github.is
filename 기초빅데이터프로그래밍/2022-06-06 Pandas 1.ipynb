{
 "cells": [
  {
   "cell_type": "markdown",
   "id": "80769bba",
   "metadata": {},
   "source": [
    "# 데이터를 Series로 저장해보기 "
   ]
  },
  {
   "cell_type": "code",
   "execution_count": 3,
   "id": "f1420b20",
   "metadata": {},
   "outputs": [
    {
     "name": "stdout",
     "output_type": "stream",
     "text": [
      "0    92600\n",
      "1    92400\n",
      "2    92100\n",
      "3    94300\n",
      "4    92300\n",
      "dtype: int64\n"
     ]
    }
   ],
   "source": [
    "import pandas as pd\n",
    "\n",
    "kakao=pd.Series([92600,92400,92100,94300,92300])\n",
    "print(kakao)"
   ]
  },
  {
   "cell_type": "code",
   "execution_count": 6,
   "id": "3f269981",
   "metadata": {},
   "outputs": [
    {
     "name": "stdout",
     "output_type": "stream",
     "text": [
      "2017-03-03    92600\n",
      "2017-03-06    92400\n",
      "2017-03-07    92100\n",
      "2017-03-08    94300\n",
      "2017-03-09    92300\n",
      "dtype: int64\n"
     ]
    }
   ],
   "source": [
    "kakao2=pd.Series([92600,92400,92100,94300,92300],index=['2017-03-03','2017-03-06','2017-03-07','2017-03-08','2017-03-09'])\n",
    "print(kakao2)"
   ]
  },
  {
   "cell_type": "code",
   "execution_count": 7,
   "id": "df947141",
   "metadata": {},
   "outputs": [
    {
     "name": "stdout",
     "output_type": "stream",
     "text": [
      "92300\n"
     ]
    }
   ],
   "source": [
    "print(kakao2['2017-03-09'])"
   ]
  },
  {
   "cell_type": "code",
   "execution_count": 10,
   "id": "f90800ab",
   "metadata": {},
   "outputs": [
    {
     "data": {
      "text/plain": [
       "DatetimeIndex(['2019-12-03', '2019-12-04', '2019-12-05', '2019-12-06',\n",
       "               '2019-12-07', '2019-12-08'],\n",
       "              dtype='datetime64[ns]', freq='D')"
      ]
     },
     "execution_count": 10,
     "metadata": {},
     "output_type": "execute_result"
    }
   ],
   "source": [
    "my_ind=pd.date_range(\"20191203\",periods=6) # 2019년 12월 3일부터 시작해서 6일동안 즉 8일까지\n",
    "my_ind"
   ]
  },
  {
   "cell_type": "code",
   "execution_count": 11,
   "id": "9aca63ce",
   "metadata": {},
   "outputs": [
    {
     "data": {
      "text/plain": [
       "2019-12-03    92600\n",
       "2019-12-04    93400\n",
       "2019-12-05    94500\n",
       "2019-12-06    93800\n",
       "2019-12-07    94000\n",
       "2019-12-08    93500\n",
       "Freq: D, dtype: int64"
      ]
     },
     "execution_count": 11,
     "metadata": {},
     "output_type": "execute_result"
    }
   ],
   "source": [
    "kakao2=pd.Series([92600,93400,94500,93800,94000,93500],index=my_ind)\n",
    "kakao2"
   ]
  },
  {
   "cell_type": "code",
   "execution_count": 12,
   "id": "cf7b7301",
   "metadata": {},
   "outputs": [
    {
     "data": {
      "text/plain": [
       "2017-03-03    92600\n",
       "2017-03-04    93400\n",
       "2017-03-05    94500\n",
       "2017-03-06    93800\n",
       "2017-03-07    94000\n",
       "2017-03-08    93500\n",
       "Freq: D, dtype: int64"
      ]
     },
     "execution_count": 12,
     "metadata": {},
     "output_type": "execute_result"
    }
   ],
   "source": [
    "kakao=pd.Series([92600,93400,94500,93800,94000,93500],index=pd.date_range('20170303',periods=6))\n",
    "kakao"
   ]
  },
  {
   "cell_type": "code",
   "execution_count": 15,
   "id": "c4de5553",
   "metadata": {},
   "outputs": [
    {
     "name": "stdout",
     "output_type": "stream",
     "text": [
      "DatetimeIndex(['2017-03-03', '2017-03-04', '2017-03-05', '2017-03-06',\n",
      "               '2017-03-07', '2017-03-08'],\n",
      "              dtype='datetime64[ns]', freq='D')\n",
      "[92600 93400 94500 93800 94000 93500]\n"
     ]
    }
   ],
   "source": [
    "print(kakao.index)\n",
    "print(kakao.values)"
   ]
  },
  {
   "cell_type": "markdown",
   "id": "72cc0741",
   "metadata": {},
   "source": [
    "# Series 객체의 덧셈 연산"
   ]
  },
  {
   "cell_type": "code",
   "execution_count": 17,
   "id": "b44ae9de",
   "metadata": {},
   "outputs": [
    {
     "name": "stdout",
     "output_type": "stream",
     "text": [
      "kt       40\n",
      "naver    40\n",
      "sk       40\n",
      "dtype: int64\n"
     ]
    }
   ],
   "source": [
    "mine=pd.Series([10,20,30],index=['naver','sk','kt'])\n",
    "friend=pd.Series([10,30,20],index=['kt','naver','sk'])\n",
    "merge=mine+friend\n",
    "print(merge)"
   ]
  },
  {
   "cell_type": "markdown",
   "id": "89e09608",
   "metadata": {},
   "source": [
    "# Pandas.Series\n"
   ]
  },
  {
   "cell_type": "code",
   "execution_count": 20,
   "id": "a80409c0",
   "metadata": {},
   "outputs": [
    {
     "name": "stdout",
     "output_type": "stream",
     "text": [
      "0     3\n",
      "1     6\n",
      "2     9\n",
      "3    12\n",
      "dtype: int64\n",
      "<class 'pandas.core.series.Series'>\n",
      "4\n"
     ]
    }
   ],
   "source": [
    "import numpy as np\n",
    "import pandas as pd\n",
    "\n",
    "obj=pd.Series([3,6,9,12])\n",
    "print(obj)\n",
    "print(type(obj))\n",
    "print(len(obj))"
   ]
  },
  {
   "cell_type": "code",
   "execution_count": 21,
   "id": "62bd7be2",
   "metadata": {},
   "outputs": [
    {
     "data": {
      "text/plain": [
       "a     3\n",
       "b     6\n",
       "c     9\n",
       "d    12\n",
       "dtype: int64"
      ]
     },
     "execution_count": 21,
     "metadata": {},
     "output_type": "execute_result"
    }
   ],
   "source": [
    "obj=pd.Series([3,6,9,12],index=['a','b','c','d'])\n",
    "obj"
   ]
  },
  {
   "cell_type": "code",
   "execution_count": 23,
   "id": "7668ce14",
   "metadata": {},
   "outputs": [
    {
     "name": "stdout",
     "output_type": "stream",
     "text": [
      "김철수    5000\n",
      "김철호    7000\n",
      "한상민    4000\n",
      "문대용    4500\n",
      "dtype: int64\n"
     ]
    }
   ],
   "source": [
    "emp={'김철수':5000,\"김철호\":7000,\"한상민\":4000,'문대용':4500}\n",
    "obj=pd.Series(emp)\n",
    "print(obj)"
   ]
  },
  {
   "cell_type": "code",
   "execution_count": 24,
   "id": "327dd53c",
   "metadata": {},
   "outputs": [
    {
     "data": {
      "text/plain": [
       "0    10\n",
       "1    20\n",
       "2    30\n",
       "dtype: int64"
      ]
     },
     "execution_count": 24,
     "metadata": {},
     "output_type": "execute_result"
    }
   ],
   "source": [
    "import pandas as pd\n",
    "my_se=pd.Series([10,20,30])\n",
    "my_se"
   ]
  },
  {
   "cell_type": "code",
   "execution_count": 25,
   "id": "f54b9cc0",
   "metadata": {},
   "outputs": [
    {
     "data": {
      "text/plain": [
       "30"
      ]
     },
     "execution_count": 25,
     "metadata": {},
     "output_type": "execute_result"
    }
   ],
   "source": [
    "my_se[2]"
   ]
  },
  {
   "cell_type": "code",
   "execution_count": 26,
   "id": "3ac9fc15",
   "metadata": {},
   "outputs": [
    {
     "data": {
      "text/plain": [
       "Samsung    10\n",
       "Naver      20\n",
       "LG         30\n",
       "dtype: int64"
      ]
     },
     "execution_count": 26,
     "metadata": {},
     "output_type": "execute_result"
    }
   ],
   "source": [
    "my_se1=pd.Series([10,20,30],index=['Samsung','Naver','LG'])\n",
    "my_se1"
   ]
  },
  {
   "cell_type": "code",
   "execution_count": 27,
   "id": "7394f736",
   "metadata": {},
   "outputs": [
    {
     "data": {
      "text/plain": [
       "30"
      ]
     },
     "execution_count": 27,
     "metadata": {},
     "output_type": "execute_result"
    }
   ],
   "source": [
    "my_se1['LG']"
   ]
  },
  {
   "cell_type": "code",
   "execution_count": 28,
   "id": "db7e5124",
   "metadata": {},
   "outputs": [
    {
     "data": {
      "text/plain": [
       "3"
      ]
     },
     "execution_count": 28,
     "metadata": {},
     "output_type": "execute_result"
    }
   ],
   "source": [
    "len(my_se1)"
   ]
  },
  {
   "cell_type": "code",
   "execution_count": 29,
   "id": "2c858e65",
   "metadata": {},
   "outputs": [
    {
     "data": {
      "text/plain": [
       "10"
      ]
     },
     "execution_count": 29,
     "metadata": {},
     "output_type": "execute_result"
    }
   ],
   "source": [
    "my_se1.min()"
   ]
  },
  {
   "cell_type": "code",
   "execution_count": 30,
   "id": "8dfe8658",
   "metadata": {},
   "outputs": [
    {
     "data": {
      "text/plain": [
       "30"
      ]
     },
     "execution_count": 30,
     "metadata": {},
     "output_type": "execute_result"
    }
   ],
   "source": [
    "my_se1.max()"
   ]
  },
  {
   "cell_type": "code",
   "execution_count": 32,
   "id": "8018933e",
   "metadata": {},
   "outputs": [
    {
     "data": {
      "text/plain": [
       "Samsung    10\n",
       "Naver      20\n",
       "LG         30\n",
       "dtype: int64"
      ]
     },
     "execution_count": 32,
     "metadata": {},
     "output_type": "execute_result"
    }
   ],
   "source": [
    "my_se1.sort_values()"
   ]
  },
  {
   "cell_type": "code",
   "execution_count": 33,
   "id": "188c78f2",
   "metadata": {},
   "outputs": [
    {
     "data": {
      "text/plain": [
       "LG         30\n",
       "Naver      20\n",
       "Samsung    10\n",
       "dtype: int64"
      ]
     },
     "execution_count": 33,
     "metadata": {},
     "output_type": "execute_result"
    }
   ],
   "source": [
    "my_se1.sort_index()"
   ]
  },
  {
   "cell_type": "code",
   "execution_count": 34,
   "id": "8defd28e",
   "metadata": {},
   "outputs": [
    {
     "data": {
      "text/plain": [
       "2    30\n",
       "1    20\n",
       "0    10\n",
       "dtype: int64"
      ]
     },
     "execution_count": 34,
     "metadata": {},
     "output_type": "execute_result"
    }
   ],
   "source": [
    "my_se.sort_values(ascending=False)"
   ]
  },
  {
   "cell_type": "code",
   "execution_count": 35,
   "id": "3e436df7",
   "metadata": {},
   "outputs": [
    {
     "data": {
      "text/plain": [
       "0    10\n",
       "1    20\n",
       "2    30\n",
       "dtype: int64"
      ]
     },
     "execution_count": 35,
     "metadata": {},
     "output_type": "execute_result"
    }
   ],
   "source": [
    "my_se.sort_index()"
   ]
  },
  {
   "cell_type": "markdown",
   "id": "69fb5b3a",
   "metadata": {},
   "source": [
    "# where"
   ]
  },
  {
   "cell_type": "code",
   "execution_count": 37,
   "id": "64b93f61",
   "metadata": {},
   "outputs": [
    {
     "data": {
      "text/plain": [
       "Samsung     NaN\n",
       "Naver      20.0\n",
       "LG         30.0\n",
       "dtype: float64"
      ]
     },
     "execution_count": 37,
     "metadata": {},
     "output_type": "execute_result"
    }
   ],
   "source": [
    "my_se1.where(my_se1>15)"
   ]
  },
  {
   "cell_type": "code",
   "execution_count": 38,
   "id": "df248cdc",
   "metadata": {},
   "outputs": [
    {
     "data": {
      "text/plain": [
       "Naver    20.0\n",
       "LG       30.0\n",
       "dtype: float64"
      ]
     },
     "execution_count": 38,
     "metadata": {},
     "output_type": "execute_result"
    }
   ],
   "source": [
    "my_se1.where(my_se1>15).dropna()"
   ]
  },
  {
   "cell_type": "code",
   "execution_count": 39,
   "id": "861df591",
   "metadata": {},
   "outputs": [
    {
     "data": {
      "text/plain": [
       "LG    30.0\n",
       "dtype: float64"
      ]
     },
     "execution_count": 39,
     "metadata": {},
     "output_type": "execute_result"
    }
   ],
   "source": [
    "my_se1.where(my_se1 == my_se1.max()).dropna()"
   ]
  },
  {
   "cell_type": "code",
   "execution_count": 40,
   "id": "d965dc0a",
   "metadata": {},
   "outputs": [
    {
     "data": {
      "text/plain": [
       "LG    30\n",
       "dtype: int64"
      ]
     },
     "execution_count": 40,
     "metadata": {},
     "output_type": "execute_result"
    }
   ],
   "source": [
    "my_se1.sort_values(ascending=False).head(1)"
   ]
  },
  {
   "cell_type": "code",
   "execution_count": 41,
   "id": "1ff693f4",
   "metadata": {},
   "outputs": [],
   "source": [
    "# pandas.Series"
   ]
  },
  {
   "cell_type": "code",
   "execution_count": 42,
   "id": "b623acc2",
   "metadata": {},
   "outputs": [
    {
     "data": {
      "text/plain": [
       "Samsung    20\n",
       "Naver      20\n",
       "Kakao      30\n",
       "dtype: int64"
      ]
     },
     "execution_count": 42,
     "metadata": {},
     "output_type": "execute_result"
    }
   ],
   "source": [
    "buy_stock=pd.Series([20,20,30],index=['Samsung','Naver','Kakao'])\n",
    "buy_stock"
   ]
  },
  {
   "cell_type": "code",
   "execution_count": 43,
   "id": "b46cd56a",
   "metadata": {},
   "outputs": [
    {
     "data": {
      "text/plain": [
       "Kakao       NaN\n",
       "LG          NaN\n",
       "Naver      40.0\n",
       "Samsung    30.0\n",
       "dtype: float64"
      ]
     },
     "execution_count": 43,
     "metadata": {},
     "output_type": "execute_result"
    }
   ],
   "source": [
    "my_se1+buy_stock"
   ]
  },
  {
   "cell_type": "code",
   "execution_count": 44,
   "id": "6fa35f35",
   "metadata": {},
   "outputs": [
    {
     "data": {
      "text/plain": [
       "Kakao       NaN\n",
       "LG          NaN\n",
       "Naver      40.0\n",
       "Samsung    30.0\n",
       "dtype: float64"
      ]
     },
     "execution_count": 44,
     "metadata": {},
     "output_type": "execute_result"
    }
   ],
   "source": [
    "my_se1.add(buy_stock)"
   ]
  },
  {
   "cell_type": "code",
   "execution_count": null,
   "id": "02afd79c",
   "metadata": {},
   "outputs": [],
   "source": []
  }
 ],
 "metadata": {
  "kernelspec": {
   "display_name": "Python 3 (ipykernel)",
   "language": "python",
   "name": "python3"
  },
  "language_info": {
   "codemirror_mode": {
    "name": "ipython",
    "version": 3
   },
   "file_extension": ".py",
   "mimetype": "text/x-python",
   "name": "python",
   "nbconvert_exporter": "python",
   "pygments_lexer": "ipython3",
   "version": "3.9.7"
  }
 },
 "nbformat": 4,
 "nbformat_minor": 5
}
