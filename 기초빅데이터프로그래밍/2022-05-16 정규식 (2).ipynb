{
 "cells": [
  {
   "cell_type": "code",
   "execution_count": 3,
   "id": "be5de82d",
   "metadata": {},
   "outputs": [
    {
     "name": "stdout",
     "output_type": "stream",
     "text": [
      "<re.Match object; span=(0, 9), match='ABCABCABC'>\n",
      "ABCABCABC\n"
     ]
    }
   ],
   "source": [
    "import re\n",
    "p = re.compile(\"(ABC)+\")\n",
    "m=p.search(\"ABCABCABC OK?\")\n",
    "\n",
    "print(m)\n",
    "print(m.group())"
   ]
  },
  {
   "cell_type": "code",
   "execution_count": 8,
   "id": "490b6b9c",
   "metadata": {},
   "outputs": [
    {
     "name": "stdout",
     "output_type": "stream",
     "text": [
      "Seo 010-1234-5678\n",
      "이름: Seo\n",
      "전화번호: 010-1234-5678\n",
      "국번: 010\n"
     ]
    }
   ],
   "source": [
    "p=re.compile(r\"(\\w+)\\s((\\d+)[-]\\d+[-]\\d+)\")\n",
    "m=p.search(\"Seo 010-1234-5678\")\n",
    "print(m.group(0))\n",
    "print(\"이름:\",m.group(1))\n",
    "print(\"전화번호:\",m.group(2))\n",
    "print(\"국번:\",m.group(3))"
   ]
  },
  {
   "cell_type": "markdown",
   "id": "e6fcb714",
   "metadata": {},
   "source": [
    "# 그룹핑된 문자열 재참조하기"
   ]
  },
  {
   "cell_type": "code",
   "execution_count": 14,
   "id": "fe21505a",
   "metadata": {},
   "outputs": [
    {
     "data": {
      "text/plain": [
       "'the the'"
      ]
     },
     "execution_count": 14,
     "metadata": {},
     "output_type": "execute_result"
    }
   ],
   "source": [
    "p=re.compile(r\"(\\b\\w+)\\s+\\1\")\n",
    "p.search(\"Paris in the the spring\").group()"
   ]
  },
  {
   "cell_type": "code",
   "execution_count": 15,
   "id": "eb5ac8df",
   "metadata": {},
   "outputs": [
    {
     "data": {
      "text/plain": [
       "'Python&Pails'"
      ]
     },
     "execution_count": 15,
     "metadata": {},
     "output_type": "execute_result"
    }
   ],
   "source": [
    "p=re.compile(r\"([Pp])ython&\\1ails\")\n",
    "p.search('Python&Pails').group()\n"
   ]
  },
  {
   "cell_type": "markdown",
   "id": "d18479d6",
   "metadata": {},
   "source": [
    "# 그룹핑된 문자열에 이름 붙이기"
   ]
  },
  {
   "cell_type": "code",
   "execution_count": 22,
   "id": "ebc9d839",
   "metadata": {},
   "outputs": [
    {
     "name": "stdout",
     "output_type": "stream",
     "text": [
      "Seo\n",
      "010-1234-5678\n"
     ]
    }
   ],
   "source": [
    "p = re.compile(r\"(?P<name>\\w+)\\s(?P<TelNum>(\\d+)[-]\\d+[-]\\d+)\")\n",
    "m=p.search(\"Seo 010-1234-5678\")\n",
    "print(m.group(\"name\"))\n",
    "print(m.group(\"TelNum\"))"
   ]
  },
  {
   "cell_type": "code",
   "execution_count": 25,
   "id": "7fc3204d",
   "metadata": {},
   "outputs": [
    {
     "name": "stdout",
     "output_type": "stream",
     "text": [
      "the the\n"
     ]
    }
   ],
   "source": [
    "p=re.compile(r\"(?P<word>\\b\\w+)\\s+(?P=word)\")\n",
    "print(p.search(\"Paris in the the spring\").group())"
   ]
  },
  {
   "cell_type": "code",
   "execution_count": 35,
   "id": "ce8cc5eb",
   "metadata": {},
   "outputs": [
    {
     "name": "stdout",
     "output_type": "stream",
     "text": [
      "<re.Match object; span=(28, 37), match='SSpotato4'>\n"
     ]
    }
   ],
   "source": [
    "import re\n",
    "str='DDpotato1 potato2 FFpotato3 SSpotato4 SSpotato5'\n",
    "print(re.findall(r\"[S]{2}potato\\d\",str))"
   ]
  },
  {
   "cell_type": "code",
   "execution_count": 39,
   "id": "560b0626",
   "metadata": {},
   "outputs": [
    {
     "name": "stdout",
     "output_type": "stream",
     "text": [
      "<re.Match object; span=(28, 37), match='SSpotato4'>\n"
     ]
    }
   ],
   "source": [
    "print(re.search(r\"[S]{2}potato\\d\",str))"
   ]
  },
  {
   "cell_type": "code",
   "execution_count": 41,
   "id": "4c0cdd91",
   "metadata": {},
   "outputs": [
    {
     "name": "stdout",
     "output_type": "stream",
     "text": [
      "SSpotato4\n"
     ]
    }
   ],
   "source": [
    "m=re.search(r\"[S]{2}potato\\d\",str)\n",
    "print(m.group())"
   ]
  },
  {
   "cell_type": "code",
   "execution_count": 43,
   "id": "af18569b",
   "metadata": {},
   "outputs": [
    {
     "name": "stdout",
     "output_type": "stream",
     "text": [
      "SSpotato4\n",
      "potato4\n"
     ]
    }
   ],
   "source": [
    "m1=re.search(r\"[S]{2}(potato\\d)\",str)\n",
    "print(m1.group())\n",
    "print(m1.group(1))"
   ]
  },
  {
   "cell_type": "code",
   "execution_count": 44,
   "id": "937b3a29",
   "metadata": {},
   "outputs": [
    {
     "data": {
      "text/plain": [
       "['potato4', 'potato5']"
      ]
     },
     "execution_count": 44,
     "metadata": {},
     "output_type": "execute_result"
    }
   ],
   "source": [
    "re.findall(\"[S]{2}(potato\\d)\",str)"
   ]
  },
  {
   "cell_type": "markdown",
   "id": "49a56e1b",
   "metadata": {},
   "source": [
    "# 정규식 정의 및 실행 match 함수 "
   ]
  },
  {
   "cell_type": "code",
   "execution_count": 48,
   "id": "a4f11ce9",
   "metadata": {},
   "outputs": [
    {
     "name": "stdout",
     "output_type": "stream",
     "text": [
      "<re.Match object; span=(0, 6), match='python'>\n"
     ]
    }
   ],
   "source": [
    "import re\n",
    "p=re.compile(\"[a-z]+\")\n",
    "m=p.match(\"python\")\n",
    "print(m)"
   ]
  },
  {
   "cell_type": "code",
   "execution_count": 49,
   "id": "189fd784",
   "metadata": {},
   "outputs": [
    {
     "name": "stdout",
     "output_type": "stream",
     "text": [
      "None\n"
     ]
    }
   ],
   "source": [
    "m=p.match(\"1 python\")\n",
    "print(m)"
   ]
  },
  {
   "cell_type": "code",
   "execution_count": 50,
   "id": "0dd3dde0",
   "metadata": {},
   "outputs": [
    {
     "data": {
      "text/plain": [
       "'python'"
      ]
     },
     "execution_count": 50,
     "metadata": {},
     "output_type": "execute_result"
    }
   ],
   "source": [
    "mo=re.match(\"[a-z]+\",\"python\")\n",
    "mo.group()"
   ]
  },
  {
   "cell_type": "code",
   "execution_count": 53,
   "id": "dc8c319d",
   "metadata": {},
   "outputs": [
    {
     "name": "stdout",
     "output_type": "stream",
     "text": [
      "None\n"
     ]
    }
   ],
   "source": [
    "mo2=re.match('[a-z]+','1 python')\n",
    "print(mo2)"
   ]
  },
  {
   "cell_type": "code",
   "execution_count": 54,
   "id": "289971ae",
   "metadata": {},
   "outputs": [
    {
     "ename": "AttributeError",
     "evalue": "'NoneType' object has no attribute 'group'",
     "output_type": "error",
     "traceback": [
      "\u001b[1;31m---------------------------------------------------------------------------\u001b[0m",
      "\u001b[1;31mAttributeError\u001b[0m                            Traceback (most recent call last)",
      "\u001b[1;32m~\\AppData\\Local\\Temp/ipykernel_2308/2448304976.py\u001b[0m in \u001b[0;36m<module>\u001b[1;34m\u001b[0m\n\u001b[0;32m      1\u001b[0m \u001b[0mmo2\u001b[0m\u001b[1;33m=\u001b[0m\u001b[0mre\u001b[0m\u001b[1;33m.\u001b[0m\u001b[0mmatch\u001b[0m\u001b[1;33m(\u001b[0m\u001b[1;34m'[a-z]+'\u001b[0m\u001b[1;33m,\u001b[0m\u001b[1;34m'1 python'\u001b[0m\u001b[1;33m)\u001b[0m\u001b[1;33m\u001b[0m\u001b[1;33m\u001b[0m\u001b[0m\n\u001b[1;32m----> 2\u001b[1;33m \u001b[0mmo2\u001b[0m\u001b[1;33m.\u001b[0m\u001b[0mgroup\u001b[0m\u001b[1;33m(\u001b[0m\u001b[1;33m)\u001b[0m\u001b[1;33m\u001b[0m\u001b[1;33m\u001b[0m\u001b[0m\n\u001b[0m",
      "\u001b[1;31mAttributeError\u001b[0m: 'NoneType' object has no attribute 'group'"
     ]
    }
   ],
   "source": [
    "mo2=re.match('[a-z]+','1 python')\n",
    "mo2.group()"
   ]
  },
  {
   "cell_type": "code",
   "execution_count": 55,
   "id": "7a831d36",
   "metadata": {},
   "outputs": [],
   "source": [
    "# 함수: 문자열 검색"
   ]
  },
  {
   "cell_type": "code",
   "execution_count": 69,
   "id": "8ac6482e",
   "metadata": {},
   "outputs": [
    {
     "name": "stdout",
     "output_type": "stream",
     "text": [
      "match0bj.group() :  Cats are smarter than dogs\n",
      "match0bj.group(1) :  Cats\n",
      "match0bj.group(2) :  smarter\n",
      "match0bj.group(3) :  than dogs\n"
     ]
    }
   ],
   "source": [
    "line = \"Cats are smarter than dogs\"\n",
    "match0bj=re.match('(.*) are (.*?) (.*)',line, re.M|re.I)\n",
    "if match0bj:\n",
    "    print(\"match0bj.group() : \",match0bj.group())\n",
    "    print(\"match0bj.group(1) : \",match0bj.group(1))\n",
    "    print(\"match0bj.group(2) : \",match0bj.group(2))\n",
    "    print(\"match0bj.group(3) : \",match0bj.group(3))\n",
    "else:\n",
    "    print(\"No match\")"
   ]
  },
  {
   "cell_type": "code",
   "execution_count": 70,
   "id": "72953203",
   "metadata": {},
   "outputs": [
    {
     "name": "stdout",
     "output_type": "stream",
     "text": [
      "match0bj.group() :  Cats are smarter than dogs\n",
      "match0bj.group(1) :  Cats\n",
      "match0bj.group(2) :  smarter than\n",
      "match0bj.group(3) :  dogs\n"
     ]
    }
   ],
   "source": [
    "line = \"Cats are smarter than dogs\"\n",
    "match0bj=re.match('(.*) are (.*) (.*)',line, re.M|re.I)\n",
    "if match0bj:\n",
    "    print(\"match0bj.group() : \",match0bj.group())\n",
    "    print(\"match0bj.group(1) : \",match0bj.group(1))\n",
    "    print(\"match0bj.group(2) : \",match0bj.group(2))\n",
    "    print(\"match0bj.group(3) : \",match0bj.group(3))\n",
    "else:\n",
    "    print(\"No match\")"
   ]
  },
  {
   "cell_type": "code",
   "execution_count": 71,
   "id": "87d18aa4",
   "metadata": {},
   "outputs": [
    {
     "name": "stdout",
     "output_type": "stream",
     "text": [
      "match0bj.group() :  Cats are smarter than dogs\n",
      "match0bj.group(1) :  Cats\n",
      "match0bj.group(2) :  smarter than dogs\n"
     ]
    }
   ],
   "source": [
    "line = \"Cats are smarter than dogs\"\n",
    "match0bj=re.match('(.*) are (.*)',line, re.M|re.I)\n",
    "if match0bj:\n",
    "    print(\"match0bj.group() : \",match0bj.group())\n",
    "    print(\"match0bj.group(1) : \",match0bj.group(1))\n",
    "    print(\"match0bj.group(2) : \",match0bj.group(2))\n",
    "else:\n",
    "    print(\"No match\")"
   ]
  },
  {
   "cell_type": "code",
   "execution_count": 72,
   "id": "4a4d6138",
   "metadata": {},
   "outputs": [
    {
     "name": "stdout",
     "output_type": "stream",
     "text": [
      "match0bj.group() :  Cats are smarter than dogs\n",
      "match0bj.group(1) :  Cats\n",
      "match0bj.group(2) :  smarter\n",
      "match0bj.group(3) :  than\n",
      "match0bj.group(3) :  dogs\n"
     ]
    }
   ],
   "source": [
    "line = \"Cats are smarter than dogs\"\n",
    "match0bj=re.match('(.*) are (.*?) (.*?) (.*?$)',line, re.M|re.I)\n",
    "if match0bj:\n",
    "    print(\"match0bj.group() : \",match0bj.group())\n",
    "    print(\"match0bj.group(1) : \",match0bj.group(1))\n",
    "    print(\"match0bj.group(2) : \",match0bj.group(2))\n",
    "    print(\"match0bj.group(3) : \",match0bj.group(3))\n",
    "    print(\"match0bj.group(3) : \",match0bj.group(4))\n",
    "else:\n",
    "    print(\"No match\")"
   ]
  },
  {
   "cell_type": "code",
   "execution_count": 73,
   "id": "c8da0a58",
   "metadata": {},
   "outputs": [
    {
     "name": "stdout",
     "output_type": "stream",
     "text": [
      "match0bj.group() :  Cats are smarter than \n",
      "match0bj.group(1) :  Cats\n",
      "match0bj.group(2) :  smarter\n",
      "match0bj.group(3) :  than\n",
      "match0bj.group(3) :  \n"
     ]
    }
   ],
   "source": [
    "line = \"Cats are smarter than dogs\"\n",
    "match0bj=re.match('(.*) are (.*?) (.*?) (.*?)',line, re.M|re.I)\n",
    "if match0bj:\n",
    "    print(\"match0bj.group() : \",match0bj.group())\n",
    "    print(\"match0bj.group(1) : \",match0bj.group(1))\n",
    "    print(\"match0bj.group(2) : \",match0bj.group(2))\n",
    "    print(\"match0bj.group(3) : \",match0bj.group(3))\n",
    "    print(\"match0bj.group(3) : \",match0bj.group(4))\n",
    "else:\n",
    "    print(\"No match\")"
   ]
  },
  {
   "cell_type": "markdown",
   "id": "8abcbd33",
   "metadata": {},
   "source": [
    "# sub() 문자열 수정"
   ]
  },
  {
   "cell_type": "code",
   "execution_count": 78,
   "id": "0560424d",
   "metadata": {},
   "outputs": [
    {
     "name": "stdout",
     "output_type": "stream",
     "text": [
      "Phone number 010-1234-1234 \n",
      "Phone Number: 01012341234\n"
     ]
    }
   ],
   "source": [
    "import re\n",
    "phone='010-1234-1234 #This is Phone Number'\n",
    "num=re.sub(r'#.*$','', phone) #sub( 없애버릴애, 뭐로, 어느 객체가)\n",
    "print(\"Phone number\",num)\n",
    "\n",
    "num=re.sub(r'\\D','',phone) #숫자가 아닌 걸 다 없애버리자 \n",
    "print(\"Phone Number:\",num)"
   ]
  },
  {
   "cell_type": "code",
   "execution_count": 79,
   "id": "24e2786f",
   "metadata": {},
   "outputs": [],
   "source": [
    "# subn() 메서드"
   ]
  },
  {
   "cell_type": "code",
   "execution_count": 82,
   "id": "5860b89b",
   "metadata": {},
   "outputs": [
    {
     "data": {
      "text/plain": [
       "'colour socks and colour socks'"
      ]
     },
     "execution_count": 82,
     "metadata": {},
     "output_type": "execute_result"
    }
   ],
   "source": [
    "import re\n",
    "p=re.compile(\"(blue|white|red)\")\n",
    "p.sub(\"colour\",'blue socks and red socks') # 뭐로, 어느 객체가 "
   ]
  },
  {
   "cell_type": "code",
   "execution_count": 83,
   "id": "253a140b",
   "metadata": {},
   "outputs": [
    {
     "data": {
      "text/plain": [
       "('colour socks and colour socks', 2)"
      ]
     },
     "execution_count": 83,
     "metadata": {},
     "output_type": "execute_result"
    }
   ],
   "source": [
    "p.subn(\"colour\",'blue socks and red socks') # 몇개 바꿨는지 튜플로"
   ]
  },
  {
   "cell_type": "code",
   "execution_count": 84,
   "id": "c297e25c",
   "metadata": {},
   "outputs": [
    {
     "data": {
      "text/plain": [
       "'colour socks and red socks'"
      ]
     },
     "execution_count": 84,
     "metadata": {},
     "output_type": "execute_result"
    }
   ],
   "source": [
    "p.sub(\"colour\",'blue socks and red socks',count=1)"
   ]
  },
  {
   "cell_type": "code",
   "execution_count": 85,
   "id": "a5d697e3",
   "metadata": {},
   "outputs": [
    {
     "data": {
      "text/plain": [
       "'colour socks and colour socks'"
      ]
     },
     "execution_count": 85,
     "metadata": {},
     "output_type": "execute_result"
    }
   ],
   "source": [
    "p.sub(\"colour\",'blue socks and red socks',count=2)"
   ]
  },
  {
   "cell_type": "code",
   "execution_count": 86,
   "id": "0660ef54",
   "metadata": {},
   "outputs": [],
   "source": [
    "# sub 메서드 사용 시 참조 구문 사용하기"
   ]
  },
  {
   "cell_type": "code",
   "execution_count": 88,
   "id": "55de2369",
   "metadata": {},
   "outputs": [
    {
     "name": "stdout",
     "output_type": "stream",
     "text": [
      "010-1234-5678 Seo\n"
     ]
    }
   ],
   "source": [
    "p=re.compile(r\"(?P<name>\\w+)\\s(?P<phone>(\\d+)[-]\\d+[-]\\d+)\")\n",
    "m=p.sub(\"\\g<phone> \\g<name>\",\"Seo 010-1234-5678\")\n",
    "print(m)"
   ]
  },
  {
   "cell_type": "code",
   "execution_count": 89,
   "id": "2f092e68",
   "metadata": {},
   "outputs": [
    {
     "name": "stdout",
     "output_type": "stream",
     "text": [
      "010-1234-5678 Seo\n"
     ]
    }
   ],
   "source": [
    "print(p.sub(\"\\g<2> \\g<1>\",'Seo 010-1234-5678'))"
   ]
  },
  {
   "cell_type": "code",
   "execution_count": 90,
   "id": "e1f65b1a",
   "metadata": {},
   "outputs": [],
   "source": [
    "# sub 메서드의 입력 인수로 함수 넣기\n"
   ]
  },
  {
   "cell_type": "code",
   "execution_count": 91,
   "id": "0a359b2d",
   "metadata": {},
   "outputs": [
    {
     "data": {
      "text/plain": [
       "'Call 0xffd2 for printing, 0xc000 for user code.'"
      ]
     },
     "execution_count": 91,
     "metadata": {},
     "output_type": "execute_result"
    }
   ],
   "source": [
    "def hexrepl(match):\n",
    "    \"Return the hex string for a decimal number\"\n",
    "    value =int(match.group())\n",
    "    return hex(value)\n",
    "\n",
    "p=re.compile(r'\\d+')\n",
    "p.sub(hexrepl,'Call 65490 for printing, 49152 for user code.')"
   ]
  },
  {
   "cell_type": "code",
   "execution_count": null,
   "id": "aa7f3b11",
   "metadata": {},
   "outputs": [],
   "source": []
  }
 ],
 "metadata": {
  "kernelspec": {
   "display_name": "Python 3 (ipykernel)",
   "language": "python",
   "name": "python3"
  },
  "language_info": {
   "codemirror_mode": {
    "name": "ipython",
    "version": 3
   },
   "file_extension": ".py",
   "mimetype": "text/x-python",
   "name": "python",
   "nbconvert_exporter": "python",
   "pygments_lexer": "ipython3",
   "version": "3.9.7"
  }
 },
 "nbformat": 4,
 "nbformat_minor": 5
}
