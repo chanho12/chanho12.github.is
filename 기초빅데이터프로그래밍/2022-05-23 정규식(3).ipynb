{
 "cells": [
  {
   "cell_type": "code",
   "execution_count": 1,
   "id": "5a9cc960",
   "metadata": {},
   "outputs": [],
   "source": [
    "# Compile Options - DOTALL,S"
   ]
  },
  {
   "cell_type": "code",
   "execution_count": 2,
   "id": "dac704d7",
   "metadata": {},
   "outputs": [
    {
     "name": "stdout",
     "output_type": "stream",
     "text": [
      "True\n"
     ]
    }
   ],
   "source": [
    "import re #정규 표현\n",
    "ss=re.compile(\".ake\")\n",
    "rr=ss.match('\\nake')\n",
    "print(rr==None)"
   ]
  },
  {
   "cell_type": "code",
   "execution_count": 3,
   "id": "54d3d024",
   "metadata": {},
   "outputs": [
    {
     "name": "stdout",
     "output_type": "stream",
     "text": [
      "False\n"
     ]
    }
   ],
   "source": [
    "ss=re.compile(\".ake\",re.S) #re.S 는 \\n을 무시하고 검색하게 해줌\n",
    "rr=ss.match(\"\\nake\")\n",
    "print(rr==None)"
   ]
  },
  {
   "cell_type": "code",
   "execution_count": 5,
   "id": "92759ae4",
   "metadata": {},
   "outputs": [
    {
     "data": {
      "text/plain": [
       "'\\nake'"
      ]
     },
     "execution_count": 5,
     "metadata": {},
     "output_type": "execute_result"
    }
   ],
   "source": [
    "rr.group()"
   ]
  },
  {
   "cell_type": "code",
   "execution_count": 6,
   "id": "005cb199",
   "metadata": {},
   "outputs": [],
   "source": [
    "# Compile Options-IGNORECASE I"
   ]
  },
  {
   "cell_type": "code",
   "execution_count": 7,
   "id": "bbb70404",
   "metadata": {},
   "outputs": [
    {
     "name": "stdout",
     "output_type": "stream",
     "text": [
      "True\n"
     ]
    }
   ],
   "source": [
    "II=re.compile('[a-z]+')\n",
    "ii=II.match('Python')\n",
    "print(ii==None)"
   ]
  },
  {
   "cell_type": "code",
   "execution_count": 9,
   "id": "b36e0bf5",
   "metadata": {},
   "outputs": [
    {
     "name": "stdout",
     "output_type": "stream",
     "text": [
      "False\n"
     ]
    }
   ],
   "source": [
    "II=re.compile('[a-z]+',re.I) #re.I 는 대문자를 무시하고 검색하게 해줌 \n",
    "ii=II.match('Python')\n",
    "print(ii==None)"
   ]
  },
  {
   "cell_type": "code",
   "execution_count": 10,
   "id": "06ad8e47",
   "metadata": {},
   "outputs": [
    {
     "data": {
      "text/plain": [
       "'Python'"
      ]
     },
     "execution_count": 10,
     "metadata": {},
     "output_type": "execute_result"
    }
   ],
   "source": [
    "ii.group()"
   ]
  },
  {
   "cell_type": "code",
   "execution_count": 11,
   "id": "4cceae7b",
   "metadata": {},
   "outputs": [],
   "source": [
    "# Compile Options-MULTILLINE, M"
   ]
  },
  {
   "cell_type": "code",
   "execution_count": 12,
   "id": "c3a32044",
   "metadata": {},
   "outputs": [
    {
     "data": {
      "text/plain": [
       "'Hello World'"
      ]
     },
     "execution_count": 12,
     "metadata": {},
     "output_type": "execute_result"
    }
   ],
   "source": [
    "MM=re.compile(\"^Hello\\s\\w+\")\n",
    "data=\"\"\"Hello World\n",
    "Hello Dahl\n",
    "Hello Moon\"\"\"\n",
    "mm=MM.match(data)\n",
    "mm.group()"
   ]
  },
  {
   "cell_type": "code",
   "execution_count": 13,
   "id": "9fc7f401",
   "metadata": {},
   "outputs": [
    {
     "data": {
      "text/plain": [
       "['Hello World', 'Hello Dahl', 'Hello Moon']"
      ]
     },
     "execution_count": 13,
     "metadata": {},
     "output_type": "execute_result"
    }
   ],
   "source": [
    "MM=re.compile(\"^Hello\\s\\w+\",re.M) #다른 줄에도 적용함 첫줄에만 적용하는 것이 아닌\n",
    "MM.findall(data)"
   ]
  },
  {
   "cell_type": "code",
   "execution_count": 14,
   "id": "cb775bca",
   "metadata": {},
   "outputs": [],
   "source": [
    "# Compile Options-VERBOSE, X"
   ]
  },
  {
   "cell_type": "code",
   "execution_count": 16,
   "id": "61924af6",
   "metadata": {},
   "outputs": [
    {
     "name": "stdout",
     "output_type": "stream",
     "text": [
      "&#x56A;\n"
     ]
    }
   ],
   "source": [
    "charref= re.compile(r'&[#](0[0-7]+|[0-9]+|x[0-9a-fA-F]+);')\n",
    "cr=charref.match(\"&#x56A;\")\n",
    "if cr is not None:\n",
    "    print(cr.group())\n",
    "else:\n",
    "    print(cr)"
   ]
  },
  {
   "cell_type": "code",
   "execution_count": 17,
   "id": "72498026",
   "metadata": {},
   "outputs": [
    {
     "name": "stdout",
     "output_type": "stream",
     "text": [
      "&#106;\n"
     ]
    }
   ],
   "source": [
    "cr=charref.match('&#106;')\n",
    "if cr is not None:\n",
    "    print(cr.group())\n",
    "else:\n",
    "    print(cr)"
   ]
  },
  {
   "cell_type": "code",
   "execution_count": 20,
   "id": "e91168c6",
   "metadata": {},
   "outputs": [
    {
     "name": "stdout",
     "output_type": "stream",
     "text": [
      "&#106;\n"
     ]
    }
   ],
   "source": [
    "charref=re.compile(r\"\"\"\n",
    "&[#] #start of a numeric entity reference\n",
    "(\n",
    "0[0-7]+ # Octal form\n",
    "|[0-9]+ # Decimal form\n",
    "|x[0-9a-fA-F]+ #Hexadecimal form\n",
    ")\n",
    "; # Trailing semicolon\n",
    "\"\"\",re.X) # 가독성을 높이기 위해서 사용 \n",
    "cr=charref.match('&#106;')\n",
    "if cr is not None:\n",
    "    print(cr.group())\n",
    "else:\n",
    "    print(cr)"
   ]
  },
  {
   "cell_type": "code",
   "execution_count": 21,
   "id": "c501e3fe",
   "metadata": {},
   "outputs": [
    {
     "name": "stdout",
     "output_type": "stream",
     "text": [
      "None\n"
     ]
    }
   ],
   "source": [
    "import re\n",
    "charref=re.compile(r'&[#](0[0-7]+|[0-9]+|x[0-9a-fA-F]+);')\n",
    "cr=charref.match('&#076')\n",
    "if (cr is not None):\n",
    "    print(cr.group())\n",
    "else:\n",
    "    print(cr)"
   ]
  },
  {
   "cell_type": "code",
   "execution_count": 22,
   "id": "5b4c61f7",
   "metadata": {},
   "outputs": [
    {
     "name": "stdout",
     "output_type": "stream",
     "text": [
      "&#076;\n"
     ]
    }
   ],
   "source": [
    "import re\n",
    "charref=re.compile(r'&[#](0[0-7]+|[0-9]+|x[0-9a-fA-F]+);')\n",
    "cr=charref.match('&#076;')\n",
    "if (cr is not None):\n",
    "    print(cr.group())\n",
    "else:\n",
    "    print(cr)"
   ]
  },
  {
   "cell_type": "code",
   "execution_count": 23,
   "id": "3c8a7b98",
   "metadata": {},
   "outputs": [],
   "source": [
    "# 정규표현식-Compile 후 검색"
   ]
  },
  {
   "cell_type": "code",
   "execution_count": 25,
   "id": "8e834174",
   "metadata": {},
   "outputs": [
    {
     "name": "stdout",
     "output_type": "stream",
     "text": [
      "['life', 'is', 'too', 'short']\n"
     ]
    }
   ],
   "source": [
    "p=re.compile(\"[a-z]+\")\n",
    "result=p.findall(\"life is too short\")\n",
    "print(result)"
   ]
  },
  {
   "cell_type": "code",
   "execution_count": 26,
   "id": "1ae1f6fb",
   "metadata": {},
   "outputs": [
    {
     "name": "stdout",
     "output_type": "stream",
     "text": [
      "<callable_iterator object at 0x0000020466E75F70>\n",
      "<re.Match object; span=(0, 4), match='life'>\n",
      "<re.Match object; span=(5, 7), match='is'>\n",
      "<re.Match object; span=(8, 11), match='too'>\n",
      "<re.Match object; span=(12, 17), match='short'>\n"
     ]
    }
   ],
   "source": [
    "result=p.finditer(\"life is too short\")\n",
    "print(result)\n",
    "for i in result:\n",
    "    print(i)"
   ]
  },
  {
   "cell_type": "code",
   "execution_count": 27,
   "id": "c014fb3d",
   "metadata": {},
   "outputs": [
    {
     "name": "stdout",
     "output_type": "stream",
     "text": [
      "<callable_iterator object at 0x0000020466F11B80>\n",
      "life\n",
      "is\n",
      "too\n",
      "short\n"
     ]
    }
   ],
   "source": [
    "result=p.finditer('life is too short')\n",
    "print(result)\n",
    "for i in result:\n",
    "    print(i.group())"
   ]
  },
  {
   "cell_type": "code",
   "execution_count": 28,
   "id": "9136a057",
   "metadata": {},
   "outputs": [],
   "source": [
    "# Match"
   ]
  },
  {
   "cell_type": "code",
   "execution_count": 30,
   "id": "bf1d85c3",
   "metadata": {},
   "outputs": [
    {
     "name": "stdout",
     "output_type": "stream",
     "text": [
      "python\n",
      "0\n",
      "6\n",
      "(0, 6)\n"
     ]
    }
   ],
   "source": [
    "import re\n",
    "p=re.compile('[a-z]+')\n",
    "m=p.match('python')\n",
    "print(m.group())\n",
    "print(m.start())\n",
    "print(m.end())\n",
    "print(m.span())"
   ]
  },
  {
   "cell_type": "code",
   "execution_count": 32,
   "id": "2c24c8b9",
   "metadata": {},
   "outputs": [
    {
     "name": "stdout",
     "output_type": "stream",
     "text": [
      "python\n",
      "0\n",
      "6\n",
      "(0, 6)\n"
     ]
    }
   ],
   "source": [
    "import re\n",
    "m=re.match('[a-z]+','python')\n",
    "print(m.group())\n",
    "print(m.start())\n",
    "print(m.end())\n",
    "print(m.span())"
   ]
  },
  {
   "cell_type": "code",
   "execution_count": 33,
   "id": "3dc6e251",
   "metadata": {},
   "outputs": [],
   "source": [
    "# Search"
   ]
  },
  {
   "cell_type": "code",
   "execution_count": 34,
   "id": "8b04ad37",
   "metadata": {},
   "outputs": [
    {
     "name": "stdout",
     "output_type": "stream",
     "text": [
      "abc\n",
      "3\n",
      "6\n",
      "(3, 6)\n"
     ]
    }
   ],
   "source": [
    "mat=re.compile('[a-z]+')\n",
    "so1=mat.search('123abc')\n",
    "print(so1.group())\n",
    "print(so1.start())\n",
    "print(so1.end())\n",
    "print(so1.span())"
   ]
  },
  {
   "cell_type": "code",
   "execution_count": 35,
   "id": "460095e3",
   "metadata": {},
   "outputs": [],
   "source": [
    "# 정규식 처리하기"
   ]
  },
  {
   "cell_type": "code",
   "execution_count": 36,
   "id": "e4c5eabd",
   "metadata": {},
   "outputs": [
    {
     "data": {
      "text/plain": [
       "re.compile(r'[a-zA-z0-9]+', re.UNICODE)"
      ]
     },
     "execution_count": 36,
     "metadata": {},
     "output_type": "execute_result"
    }
   ],
   "source": [
    "import re\n",
    "p=re.compile('[a-zA-z0-9]+')\n",
    "p"
   ]
  },
  {
   "cell_type": "code",
   "execution_count": 37,
   "id": "ac1ba974",
   "metadata": {},
   "outputs": [
    {
     "data": {
      "text/plain": [
       "re.Pattern"
      ]
     },
     "execution_count": 37,
     "metadata": {},
     "output_type": "execute_result"
    }
   ],
   "source": [
    "p.__class__"
   ]
  },
  {
   "cell_type": "code",
   "execution_count": 38,
   "id": "a268e7a3",
   "metadata": {},
   "outputs": [
    {
     "data": {
      "text/plain": [
       "'Pattern'"
      ]
     },
     "execution_count": 38,
     "metadata": {},
     "output_type": "execute_result"
    }
   ],
   "source": [
    "p.__class__.__name__"
   ]
  },
  {
   "cell_type": "code",
   "execution_count": 39,
   "id": "1bbaca0e",
   "metadata": {},
   "outputs": [
    {
     "data": {
      "text/plain": [
       "<re.Match object; span=(0, 6), match='python'>"
      ]
     },
     "execution_count": 39,
     "metadata": {},
     "output_type": "execute_result"
    }
   ],
   "source": [
    "m=p.match(\"python\")\n",
    "m"
   ]
  },
  {
   "cell_type": "code",
   "execution_count": 40,
   "id": "562daeb1",
   "metadata": {},
   "outputs": [
    {
     "data": {
      "text/plain": [
       "'Match'"
      ]
     },
     "execution_count": 40,
     "metadata": {},
     "output_type": "execute_result"
    }
   ],
   "source": [
    "m.__class__.__name__"
   ]
  },
  {
   "cell_type": "code",
   "execution_count": 41,
   "id": "caa7f6b2",
   "metadata": {},
   "outputs": [
    {
     "data": {
      "text/plain": [
       "'python'"
      ]
     },
     "execution_count": 41,
     "metadata": {},
     "output_type": "execute_result"
    }
   ],
   "source": [
    "m.group()"
   ]
  },
  {
   "cell_type": "code",
   "execution_count": 42,
   "id": "de7240c6",
   "metadata": {},
   "outputs": [
    {
     "data": {
      "text/plain": [
       "(0, 6)"
      ]
     },
     "execution_count": 42,
     "metadata": {},
     "output_type": "execute_result"
    }
   ],
   "source": [
    "m.span()"
   ]
  },
  {
   "cell_type": "code",
   "execution_count": null,
   "id": "02aeba5a",
   "metadata": {},
   "outputs": [],
   "source": []
  }
 ],
 "metadata": {
  "kernelspec": {
   "display_name": "Python 3 (ipykernel)",
   "language": "python",
   "name": "python3"
  },
  "language_info": {
   "codemirror_mode": {
    "name": "ipython",
    "version": 3
   },
   "file_extension": ".py",
   "mimetype": "text/x-python",
   "name": "python",
   "nbconvert_exporter": "python",
   "pygments_lexer": "ipython3",
   "version": "3.9.7"
  }
 },
 "nbformat": 4,
 "nbformat_minor": 5
}
