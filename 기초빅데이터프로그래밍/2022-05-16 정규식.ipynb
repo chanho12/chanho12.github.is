{
 "cells": [
  {
   "cell_type": "code",
   "execution_count": null,
   "id": "fd223390",
   "metadata": {},
   "outputs": [],
   "source": [
    "# 그룹이 있는 모임"
   ]
  },
  {
   "cell_type": "code",
   "execution_count": 8,
   "id": "8e83f5b1",
   "metadata": {},
   "outputs": [
    {
     "data": {
      "text/plain": [
       "[('dog', 'dot'), ('do', 'don'), ('dumb', 'dumb')]"
      ]
     },
     "execution_count": 8,
     "metadata": {},
     "output_type": "execute_result"
    }
   ],
   "source": [
    "import re\n",
    "data='''\n",
    "'dog dot','do don't','dumb-dumb','no match','dumb-bumb'\n",
    "'''\n",
    "\n",
    "p=re.compile(\"(d\\w+)\\W(d\\w+)\") # ( ) 뛰어쓰기 ( )  \\w 이거는 문자 한개  \\w+ 이거는 문자 한개 이상 \n",
    "p.findall(data) #find all"
   ]
  },
  {
   "cell_type": "code",
   "execution_count": null,
   "id": "8bcb6f60",
   "metadata": {},
   "outputs": [],
   "source": [
    "# 그룹이 없는 모임 "
   ]
  },
  {
   "cell_type": "code",
   "execution_count": 9,
   "id": "8702e2e2",
   "metadata": {},
   "outputs": [
    {
     "data": {
      "text/plain": [
       "['dog dot', 'do don', 'dumb-dumb']"
      ]
     },
     "execution_count": 9,
     "metadata": {},
     "output_type": "execute_result"
    }
   ],
   "source": [
    "import re\n",
    "data='''\n",
    "'dog dot','do don't','dumb-dumb','no match','dumb-bumb'\n",
    "'''\n",
    "\n",
    "p=re.compile(\"d\\w+\\Wd\\w+\")\n",
    "p.findall(data)"
   ]
  },
  {
   "cell_type": "code",
   "execution_count": 10,
   "id": "c3db2fcc",
   "metadata": {},
   "outputs": [],
   "source": [
    "# \\b"
   ]
  },
  {
   "cell_type": "code",
   "execution_count": 11,
   "id": "0e780add",
   "metadata": {},
   "outputs": [
    {
     "name": "stdout",
     "output_type": "stream",
     "text": [
      "<re.Match object; span=(3, 8), match='class'>\n"
     ]
    }
   ],
   "source": [
    "import re\n",
    "p=re.compile(r'\\bclass\\b') # class가 시작할때 끝날떄 쓰인 형태를 찾아라  \n",
    "print(p.search('no class at all')) # no class at all 에서 찾아봐 "
   ]
  },
  {
   "cell_type": "code",
   "execution_count": 12,
   "id": "2802f357",
   "metadata": {},
   "outputs": [
    {
     "name": "stdout",
     "output_type": "stream",
     "text": [
      "None\n"
     ]
    }
   ],
   "source": [
    "print(p.search('the declassified algorithm'))"
   ]
  },
  {
   "cell_type": "code",
   "execution_count": 13,
   "id": "6927bb9c",
   "metadata": {},
   "outputs": [
    {
     "name": "stdout",
     "output_type": "stream",
     "text": [
      "None\n"
     ]
    }
   ],
   "source": [
    "print(p.search('one subclass is'))"
   ]
  },
  {
   "cell_type": "code",
   "execution_count": 14,
   "id": "a73f813e",
   "metadata": {},
   "outputs": [],
   "source": [
    "# \\B"
   ]
  },
  {
   "cell_type": "code",
   "execution_count": 15,
   "id": "cb019640",
   "metadata": {},
   "outputs": [
    {
     "name": "stdout",
     "output_type": "stream",
     "text": [
      "None\n"
     ]
    }
   ],
   "source": [
    "p=re.compile(r'\\Bclass\\B')\n",
    "print(p.search('no class at all'))"
   ]
  },
  {
   "cell_type": "code",
   "execution_count": 16,
   "id": "dc827911",
   "metadata": {},
   "outputs": [
    {
     "name": "stdout",
     "output_type": "stream",
     "text": [
      "<re.Match object; span=(6, 11), match='class'>\n"
     ]
    }
   ],
   "source": [
    "print(p.search('the declassified algorithm'))"
   ]
  },
  {
   "cell_type": "code",
   "execution_count": 17,
   "id": "364ceab1",
   "metadata": {},
   "outputs": [],
   "source": [
    "# Dot."
   ]
  },
  {
   "cell_type": "code",
   "execution_count": 19,
   "id": "f2db3034",
   "metadata": {},
   "outputs": [
    {
     "name": "stdout",
     "output_type": "stream",
     "text": [
      "<re.Match object; span=(0, 3), match='asb'>\n"
     ]
    }
   ],
   "source": [
    "import re\n",
    "dp=re.compile('a.b')\n",
    "print(dp.match('asb'))"
   ]
  },
  {
   "cell_type": "code",
   "execution_count": 20,
   "id": "93567143",
   "metadata": {},
   "outputs": [
    {
     "name": "stdout",
     "output_type": "stream",
     "text": [
      "None\n"
     ]
    }
   ],
   "source": [
    "print(dp.match('ab'))"
   ]
  },
  {
   "cell_type": "code",
   "execution_count": 21,
   "id": "8ddb5cec",
   "metadata": {},
   "outputs": [
    {
     "name": "stdout",
     "output_type": "stream",
     "text": [
      "<re.Match object; span=(0, 3), match='a b'>\n"
     ]
    }
   ],
   "source": [
    "print(dp.match('a b'))"
   ]
  },
  {
   "cell_type": "code",
   "execution_count": 22,
   "id": "7e04f02f",
   "metadata": {},
   "outputs": [
    {
     "name": "stdout",
     "output_type": "stream",
     "text": [
      "None\n"
     ]
    }
   ],
   "source": [
    "print(dp.match('avgb')) #개수가 점 하나만 적혀있으니 하나만"
   ]
  },
  {
   "cell_type": "code",
   "execution_count": 24,
   "id": "f5d66fc7",
   "metadata": {},
   "outputs": [],
   "source": [
    "# 전방탐색"
   ]
  },
  {
   "cell_type": "code",
   "execution_count": 25,
   "id": "f899f173",
   "metadata": {},
   "outputs": [
    {
     "name": "stdout",
     "output_type": "stream",
     "text": [
      "http:\n"
     ]
    }
   ],
   "source": [
    "import re\n",
    "p=re.compile(\".+:\")\n",
    "m=p.search('http://google.com')\n",
    "print(m.group())"
   ]
  },
  {
   "cell_type": "code",
   "execution_count": 26,
   "id": "562e67c9",
   "metadata": {},
   "outputs": [
    {
     "name": "stdout",
     "output_type": "stream",
     "text": [
      "http\n"
     ]
    }
   ],
   "source": [
    "p=re.compile(\".+(?=:)\") # ?=: 라는 말은 :을 찾아보기는 하지만 결과에는 보여주지 않을거야 \n",
    "m=p.search(\"http://google.com\")\n",
    "print(m.group())"
   ]
  },
  {
   "cell_type": "code",
   "execution_count": 27,
   "id": "79e3612a",
   "metadata": {},
   "outputs": [
    {
     "name": "stdout",
     "output_type": "stream",
     "text": [
      "http\n"
     ]
    }
   ],
   "source": [
    "p=re.compile(\".+(?=::)\")\n",
    "m=p.search(\"http:://google.com\")\n",
    "print(m.group())"
   ]
  },
  {
   "cell_type": "code",
   "execution_count": null,
   "id": "47a3d1a3",
   "metadata": {},
   "outputs": [],
   "source": [
    "# 후방탐색 ?<="
   ]
  },
  {
   "cell_type": "code",
   "execution_count": 28,
   "id": "f939939a",
   "metadata": {},
   "outputs": [
    {
     "data": {
      "text/plain": [
       "'problem1'"
      ]
     },
     "execution_count": 28,
     "metadata": {},
     "output_type": "execute_result"
    }
   ],
   "source": [
    "# 후방탐색\n",
    "result=re.search('\\w+(?=:)','problem1:Solve the EQ1')\n",
    "result.group()"
   ]
  },
  {
   "cell_type": "code",
   "execution_count": 34,
   "id": "e5840f17",
   "metadata": {},
   "outputs": [
    {
     "data": {
      "text/plain": [
       "'Solve'"
      ]
     },
     "execution_count": 34,
     "metadata": {},
     "output_type": "execute_result"
    }
   ],
   "source": [
    "result=re.search(\"(?<=:)\\w+\",'problem1:Solve the EQ1')\n",
    "result.group()"
   ]
  },
  {
   "cell_type": "code",
   "execution_count": null,
   "id": "bd18cd31",
   "metadata": {},
   "outputs": [],
   "source": []
  }
 ],
 "metadata": {
  "kernelspec": {
   "display_name": "Python 3 (ipykernel)",
   "language": "python",
   "name": "python3"
  },
  "language_info": {
   "codemirror_mode": {
    "name": "ipython",
    "version": 3
   },
   "file_extension": ".py",
   "mimetype": "text/x-python",
   "name": "python",
   "nbconvert_exporter": "python",
   "pygments_lexer": "ipython3",
   "version": "3.9.7"
  }
 },
 "nbformat": 4,
 "nbformat_minor": 5
}
