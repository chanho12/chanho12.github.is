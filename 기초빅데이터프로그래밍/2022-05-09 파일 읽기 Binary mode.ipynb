{
 "cells": [
  {
   "cell_type": "code",
   "execution_count": 5,
   "id": "d9226b7a",
   "metadata": {},
   "outputs": [],
   "source": [
    "# dat 파일 만드는법"
   ]
  },
  {
   "cell_type": "code",
   "execution_count": 3,
   "id": "f888d273",
   "metadata": {},
   "outputs": [],
   "source": [
    "import pickle\n",
    "fp=open(\"binary.dat\",'wb') # 'wt' text 모드 'wb' binary 모드\n",
    "pickle.dump(1,fp)\n",
    "pickle.dump(3.14,fp)\n",
    "pickle.dump('안녕 C!',fp)\n",
    "pickle.dump([11,12,13],fp)\n",
    "pickle.dump((11,22,33),fp)\n",
    "pickle.dump({'line':0,\"rectangle\":1,\"triangle\":2},fp)\n",
    "fp.close()"
   ]
  },
  {
   "cell_type": "code",
   "execution_count": null,
   "id": "338d154a",
   "metadata": {},
   "outputs": [],
   "source": [
    "# dat 파일 만든 걸 사용하는 법 "
   ]
  },
  {
   "cell_type": "code",
   "execution_count": 4,
   "id": "8e86e683",
   "metadata": {},
   "outputs": [
    {
     "name": "stdout",
     "output_type": "stream",
     "text": [
      "1\n",
      "3.14\n",
      "안녕 C!\n",
      "[11, 12, 13]\n",
      "(11, 22, 33)\n",
      "{'line': 0, 'rectangle': 1, 'triangle': 2}\n"
     ]
    }
   ],
   "source": [
    "fp=open(\"binary.dat\",'rb')\n",
    "for i in range(6):\n",
    "    data=pickle.load(fp)\n",
    "    print(data)\n",
    "fp.close()"
   ]
  },
  {
   "cell_type": "code",
   "execution_count": 7,
   "id": "6838d2b9",
   "metadata": {},
   "outputs": [],
   "source": [
    "a=[\"-3\\n\",'-3.14\\n','\\\"-3.14\\\"\\n']\n",
    "with open('2019Info.txt','wt') as fp:\n",
    "          fp.writelines(a)"
   ]
  },
  {
   "cell_type": "code",
   "execution_count": 8,
   "id": "36a7d85e",
   "metadata": {},
   "outputs": [
    {
     "name": "stdout",
     "output_type": "stream",
     "text": [
      "-3\n",
      "\n",
      "-3.14\n",
      "\n",
      "\"-3.14\"\n",
      "\n"
     ]
    }
   ],
   "source": [
    "with open(\"2019Info.txt\",'rt') as fp:\n",
    "    for i in fp:\n",
    "        print(i)"
   ]
  },
  {
   "cell_type": "code",
   "execution_count": 9,
   "id": "5b1e6ed0",
   "metadata": {},
   "outputs": [
    {
     "name": "stdout",
     "output_type": "stream",
     "text": [
      "-3\n",
      "-3.14\n",
      "\"-3.14\"\n",
      "\n"
     ]
    }
   ],
   "source": [
    "with open('2019Info.txt','rt') as fp:\n",
    "    test=fp.read()\n",
    "    print(test)"
   ]
  },
  {
   "cell_type": "code",
   "execution_count": 13,
   "id": "f1169b45",
   "metadata": {},
   "outputs": [],
   "source": [
    "with open (\"2019Info.dat\",'wb') as fp:\n",
    "    pickle.dump(-3,fp)\n",
    "    pickle.dump(-3.14,fp)\n",
    "    pickle.dump(\"\\\"-3.14\\\"\",fp)\n",
    "    "
   ]
  },
  {
   "cell_type": "code",
   "execution_count": null,
   "id": "262859ce",
   "metadata": {},
   "outputs": [],
   "source": [
    "# 안에 있는 갯수가 몇갠지 모를때 무제한으로 적용 가능 "
   ]
  },
  {
   "cell_type": "code",
   "execution_count": 15,
   "id": "8610f8bb",
   "metadata": {},
   "outputs": [
    {
     "name": "stdout",
     "output_type": "stream",
     "text": [
      "-3\n",
      "-3.14\n",
      "\"-3.14\"\n"
     ]
    }
   ],
   "source": [
    "fp=open(\"2019Info.dat\",'rb') \n",
    "while True:\n",
    "    try: \n",
    "        print(pickle.load(fp))\n",
    "    except:\n",
    "        break\n",
    "fp.close()"
   ]
  },
  {
   "cell_type": "code",
   "execution_count": 17,
   "id": "ee9014e0",
   "metadata": {},
   "outputs": [
    {
     "name": "stdout",
     "output_type": "stream",
     "text": [
      "-3\n",
      "-3.14\n",
      "\"-3.14\"\n"
     ]
    },
    {
     "ename": "EOFError",
     "evalue": "Ran out of input",
     "output_type": "error",
     "traceback": [
      "\u001b[1;31m---------------------------------------------------------------------------\u001b[0m",
      "\u001b[1;31mEOFError\u001b[0m                                  Traceback (most recent call last)",
      "\u001b[1;32m~\\AppData\\Local\\Temp/ipykernel_16332/2431177071.py\u001b[0m in \u001b[0;36m<module>\u001b[1;34m\u001b[0m\n\u001b[0;32m      3\u001b[0m     \u001b[0mprint\u001b[0m\u001b[1;33m(\u001b[0m\u001b[0mpickle\u001b[0m\u001b[1;33m.\u001b[0m\u001b[0mload\u001b[0m\u001b[1;33m(\u001b[0m\u001b[0mfp\u001b[0m\u001b[1;33m)\u001b[0m\u001b[1;33m)\u001b[0m\u001b[1;33m\u001b[0m\u001b[1;33m\u001b[0m\u001b[0m\n\u001b[0;32m      4\u001b[0m     \u001b[0mprint\u001b[0m\u001b[1;33m(\u001b[0m\u001b[0mpickle\u001b[0m\u001b[1;33m.\u001b[0m\u001b[0mload\u001b[0m\u001b[1;33m(\u001b[0m\u001b[0mfp\u001b[0m\u001b[1;33m)\u001b[0m\u001b[1;33m)\u001b[0m\u001b[1;33m\u001b[0m\u001b[1;33m\u001b[0m\u001b[0m\n\u001b[1;32m----> 5\u001b[1;33m     \u001b[0mprint\u001b[0m\u001b[1;33m(\u001b[0m\u001b[0mpickle\u001b[0m\u001b[1;33m.\u001b[0m\u001b[0mload\u001b[0m\u001b[1;33m(\u001b[0m\u001b[0mfp\u001b[0m\u001b[1;33m)\u001b[0m\u001b[1;33m)\u001b[0m\u001b[1;33m\u001b[0m\u001b[1;33m\u001b[0m\u001b[0m\n\u001b[0m",
      "\u001b[1;31mEOFError\u001b[0m: Ran out of input"
     ]
    }
   ],
   "source": [
    "with open('2019Info.dat','rb') as fp:\n",
    "    print(pickle.load(fp))\n",
    "    print(pickle.load(fp))\n",
    "    print(pickle.load(fp))\n",
    "    print(pickle.load(fp))"
   ]
  },
  {
   "cell_type": "code",
   "execution_count": 20,
   "id": "5c538d4b",
   "metadata": {},
   "outputs": [
    {
     "name": "stdout",
     "output_type": "stream",
     "text": [
      "-3\n",
      "-3.14\n",
      "\"-3.14\"\n",
      "('Ran out of input',)\n"
     ]
    }
   ],
   "source": [
    "fp=open(\"2019Info.dat\",'rb')\n",
    "while True:\n",
    "    try:\n",
    "        print(pickle.load(fp))\n",
    "    except EOFError as e:\n",
    "        print(e.args)\n",
    "        break\n",
    "fp.close()"
   ]
  },
  {
   "cell_type": "code",
   "execution_count": 21,
   "id": "b00185b4",
   "metadata": {},
   "outputs": [],
   "source": [
    "# pickle 모듈의 dump() % load()"
   ]
  },
  {
   "cell_type": "code",
   "execution_count": 22,
   "id": "d65fd8bc",
   "metadata": {},
   "outputs": [
    {
     "data": {
      "text/plain": [
       "['red', 'green', 'black']"
      ]
     },
     "execution_count": 22,
     "metadata": {},
     "output_type": "execute_result"
    }
   ],
   "source": [
    "colors=['red','green','black']\n",
    "colors"
   ]
  },
  {
   "cell_type": "code",
   "execution_count": 25,
   "id": "ef873a54",
   "metadata": {},
   "outputs": [],
   "source": [
    "import pickle\n",
    "f=open(\"coloT\",'wb')\n",
    "pickle.dump(colors,f)\n",
    "f.close()"
   ]
  },
  {
   "cell_type": "code",
   "execution_count": 26,
   "id": "62efd0aa",
   "metadata": {},
   "outputs": [],
   "source": [
    "del colors"
   ]
  },
  {
   "cell_type": "code",
   "execution_count": 27,
   "id": "114c1fb3",
   "metadata": {},
   "outputs": [
    {
     "name": "stderr",
     "output_type": "stream",
     "text": [
      "UsageError: %colors: you must specify a color scheme. See '%colors?'\n"
     ]
    }
   ],
   "source": [
    "colors"
   ]
  },
  {
   "cell_type": "code",
   "execution_count": 28,
   "id": "fbb187d7",
   "metadata": {},
   "outputs": [
    {
     "data": {
      "text/plain": [
       "['red', 'green', 'black']"
      ]
     },
     "execution_count": 28,
     "metadata": {},
     "output_type": "execute_result"
    }
   ],
   "source": [
    "f=open('coloT','rb')\n",
    "colors=pickle.load(f)\n",
    "f.close()\n",
    "colors"
   ]
  },
  {
   "cell_type": "code",
   "execution_count": 29,
   "id": "fcb2be1a",
   "metadata": {},
   "outputs": [
    {
     "data": {
      "text/plain": [
       "<__main__.Test at 0x20fecb5efd0>"
      ]
     },
     "execution_count": 29,
     "metadata": {},
     "output_type": "execute_result"
    }
   ],
   "source": [
    "class Test:\n",
    "    var=None\n",
    "a=Test()\n",
    "a.var=\"varTest\"\n",
    "f=open('claT','wb')\n",
    "pickle.dump(a,f)\n",
    "f.close()\n",
    "f=open(\"claT\",'rb')\n",
    "b=pickle.load(f)\n",
    "f.close()\n",
    "b"
   ]
  },
  {
   "cell_type": "code",
   "execution_count": 33,
   "id": "0895ae8a",
   "metadata": {},
   "outputs": [
    {
     "data": {
      "text/plain": [
       "'varTest'"
      ]
     },
     "execution_count": 33,
     "metadata": {},
     "output_type": "execute_result"
    }
   ],
   "source": [
    "b.var"
   ]
  },
  {
   "cell_type": "code",
   "execution_count": null,
   "id": "61707790",
   "metadata": {},
   "outputs": [],
   "source": []
  }
 ],
 "metadata": {
  "kernelspec": {
   "display_name": "Python 3 (ipykernel)",
   "language": "python",
   "name": "python3"
  },
  "language_info": {
   "codemirror_mode": {
    "name": "ipython",
    "version": 3
   },
   "file_extension": ".py",
   "mimetype": "text/x-python",
   "name": "python",
   "nbconvert_exporter": "python",
   "pygments_lexer": "ipython3",
   "version": "3.9.7"
  }
 },
 "nbformat": 4,
 "nbformat_minor": 5
}
