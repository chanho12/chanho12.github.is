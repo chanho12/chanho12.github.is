{
 "cells": [
  {
   "cell_type": "markdown",
   "id": "0b6eab73",
   "metadata": {},
   "source": [
    "# numpy.random"
   ]
  },
  {
   "cell_type": "code",
   "execution_count": 2,
   "id": "0914eaa1",
   "metadata": {},
   "outputs": [
    {
     "data": {
      "text/plain": [
       "array([0, 1, 2, 3, 4, 5, 6, 7, 8, 9])"
      ]
     },
     "execution_count": 2,
     "metadata": {},
     "output_type": "execute_result"
    }
   ],
   "source": [
    "import numpy as np\n",
    "x=np.arange(10)\n",
    "x"
   ]
  },
  {
   "cell_type": "code",
   "execution_count": 5,
   "id": "3f6e19e1",
   "metadata": {},
   "outputs": [
    {
     "data": {
      "text/plain": [
       "array([9, 7, 0, 8, 4, 3, 6, 1, 5, 2])"
      ]
     },
     "execution_count": 5,
     "metadata": {},
     "output_type": "execute_result"
    }
   ],
   "source": [
    "np.random.shuffle(x)\n",
    "x"
   ]
  },
  {
   "cell_type": "code",
   "execution_count": 6,
   "id": "90e6c0e8",
   "metadata": {},
   "outputs": [
    {
     "data": {
      "text/plain": [
       "9"
      ]
     },
     "execution_count": 6,
     "metadata": {},
     "output_type": "execute_result"
    }
   ],
   "source": [
    "np.random.choice(x)"
   ]
  },
  {
   "cell_type": "code",
   "execution_count": 11,
   "id": "eea00fc1",
   "metadata": {},
   "outputs": [
    {
     "data": {
      "text/plain": [
       "9"
      ]
     },
     "execution_count": 11,
     "metadata": {},
     "output_type": "execute_result"
    }
   ],
   "source": [
    "np.random.shuffle(x)\n",
    "np.random.choice(x)"
   ]
  },
  {
   "cell_type": "markdown",
   "id": "030440b8",
   "metadata": {},
   "source": [
    "# numpy.random.rand"
   ]
  },
  {
   "cell_type": "code",
   "execution_count": 13,
   "id": "4506bfa5",
   "metadata": {},
   "outputs": [
    {
     "data": {
      "text/plain": [
       "0.038970502940480434"
      ]
     },
     "execution_count": 13,
     "metadata": {},
     "output_type": "execute_result"
    }
   ],
   "source": [
    "y=np.random.rand() # [0,1) unifomr distribution\n",
    "y"
   ]
  },
  {
   "cell_type": "code",
   "execution_count": 15,
   "id": "5330f7ca",
   "metadata": {},
   "outputs": [
    {
     "data": {
      "text/plain": [
       "array([0.34615317, 0.61662909, 0.16309462, 0.4756453 , 0.66775109,\n",
       "       0.12658843, 0.41681653])"
      ]
     },
     "execution_count": 15,
     "metadata": {},
     "output_type": "execute_result"
    }
   ],
   "source": [
    "y=np.random.rand(7)\n",
    "y"
   ]
  },
  {
   "cell_type": "code",
   "execution_count": 17,
   "id": "72eb55ed",
   "metadata": {},
   "outputs": [
    {
     "data": {
      "text/plain": [
       "array([[0.71077703, 0.67855835, 0.66328293, 0.63426091, 0.62497487,\n",
       "        0.68967151, 0.94242236],\n",
       "       [0.82242999, 0.37265174, 0.71960017, 0.62085659, 0.06247249,\n",
       "        0.60544521, 0.9424058 ]])"
      ]
     },
     "execution_count": 17,
     "metadata": {},
     "output_type": "execute_result"
    }
   ],
   "source": [
    "y=np.random.rand(2,7)\n",
    "y"
   ]
  },
  {
   "cell_type": "code",
   "execution_count": 18,
   "id": "f8bc8dfa",
   "metadata": {},
   "outputs": [
    {
     "data": {
      "text/plain": [
       "array([[[0.77884703, 0.17193413, 0.13472265, 0.7862885 , 0.06121294,\n",
       "         0.37333808, 0.28006898],\n",
       "        [0.3701923 , 0.93483919, 0.96769512, 0.30566548, 0.65794307,\n",
       "         0.61470316, 0.73416017]],\n",
       "\n",
       "       [[0.42158217, 0.88196713, 0.63486439, 0.53043189, 0.33002847,\n",
       "         0.36974395, 0.86103127],\n",
       "        [0.34281779, 0.67376266, 0.74236444, 0.91093718, 0.46702975,\n",
       "         0.95126278, 0.05209224]],\n",
       "\n",
       "       [[0.88489275, 0.84350772, 0.73107917, 0.46479594, 0.00702106,\n",
       "         0.56768279, 0.47801379],\n",
       "        [0.60460815, 0.9582333 , 0.31894909, 0.70867188, 0.67811171,\n",
       "         0.08119396, 0.8013369 ]]])"
      ]
     },
     "execution_count": 18,
     "metadata": {},
     "output_type": "execute_result"
    }
   ],
   "source": [
    "y=np.random.rand(3,2,7)\n",
    "y"
   ]
  },
  {
   "cell_type": "markdown",
   "id": "d7bb39d0",
   "metadata": {},
   "source": [
    "# numpy.random.randn"
   ]
  },
  {
   "cell_type": "code",
   "execution_count": 24,
   "id": "3e6a8857",
   "metadata": {},
   "outputs": [
    {
     "data": {
      "text/plain": [
       "-2.326529871556696"
      ]
     },
     "execution_count": 24,
     "metadata": {},
     "output_type": "execute_result"
    }
   ],
   "source": [
    "y=np.random.randn() # mean=0, variance=1, Gaussian Normal distribution \n",
    "y"
   ]
  },
  {
   "cell_type": "code",
   "execution_count": 25,
   "id": "d202675a",
   "metadata": {},
   "outputs": [
    {
     "data": {
      "text/plain": [
       "array([-1.40284647,  0.57390171, -0.40096182, -0.26840135, -0.34907653,\n",
       "        1.18426358, -1.1237119 ])"
      ]
     },
     "execution_count": 25,
     "metadata": {},
     "output_type": "execute_result"
    }
   ],
   "source": [
    "y=np.random.randn(7)\n",
    "y"
   ]
  },
  {
   "cell_type": "code",
   "execution_count": 26,
   "id": "fbfa5de3",
   "metadata": {},
   "outputs": [
    {
     "data": {
      "text/plain": [
       "array([[ 0.72334851, -0.33881267, -0.47991909,  0.73194613,  1.96563014,\n",
       "         0.11655957,  0.65401184],\n",
       "       [-0.95580522, -1.25334105, -0.39914985,  0.62457092, -2.53688862,\n",
       "         0.46734881, -1.90582991]])"
      ]
     },
     "execution_count": 26,
     "metadata": {},
     "output_type": "execute_result"
    }
   ],
   "source": [
    "y=np.random.randn(2,7)\n",
    "y"
   ]
  },
  {
   "cell_type": "code",
   "execution_count": 27,
   "id": "a033a0d0",
   "metadata": {},
   "outputs": [
    {
     "data": {
      "text/plain": [
       "array([[[-1.19730013,  0.25374011,  0.14728096, -1.05397638,\n",
       "          0.21268714, -1.21782882, -0.68508048],\n",
       "        [ 0.48055239, -1.31779581, -0.98243403,  1.51667424,\n",
       "         -0.34893321,  0.46499853,  1.0435466 ]],\n",
       "\n",
       "       [[ 1.52031353,  0.89504908,  0.77714813, -0.00858624,\n",
       "         -3.49251306,  0.05666705,  0.90772099],\n",
       "        [ 1.06837944, -0.11039126, -0.43854272,  1.22938317,\n",
       "         -0.80336273,  0.16185954, -0.13109895]],\n",
       "\n",
       "       [[ 1.96532129, -0.51427013,  1.01102211, -0.04480484,\n",
       "         -1.15231562,  0.63055676, -0.2182198 ],\n",
       "        [-0.66981393, -0.16576089,  0.26979957,  0.44862894,\n",
       "         -0.06185717, -0.272174  ,  0.29274655]]])"
      ]
     },
     "execution_count": 27,
     "metadata": {},
     "output_type": "execute_result"
    }
   ],
   "source": [
    "y=np.random.randn(3,2,7)\n",
    "y"
   ]
  },
  {
   "cell_type": "markdown",
   "id": "61e47e1c",
   "metadata": {},
   "source": [
    "# numpy.cumsum"
   ]
  },
  {
   "cell_type": "code",
   "execution_count": 29,
   "id": "12034271",
   "metadata": {},
   "outputs": [
    {
     "data": {
      "text/plain": [
       "array([[1, 2, 3],\n",
       "       [4, 5, 6]])"
      ]
     },
     "execution_count": 29,
     "metadata": {},
     "output_type": "execute_result"
    }
   ],
   "source": [
    "a=np.array([[1,2,3],[4,5,6]])\n",
    "a"
   ]
  },
  {
   "cell_type": "code",
   "execution_count": 30,
   "id": "86905f9c",
   "metadata": {},
   "outputs": [
    {
     "data": {
      "text/plain": [
       "array([ 1,  3,  6, 10, 15, 21], dtype=int32)"
      ]
     },
     "execution_count": 30,
     "metadata": {},
     "output_type": "execute_result"
    }
   ],
   "source": [
    "np.cumsum(a)"
   ]
  },
  {
   "cell_type": "code",
   "execution_count": 31,
   "id": "12d73553",
   "metadata": {},
   "outputs": [
    {
     "data": {
      "text/plain": [
       "array([ 1.,  3.,  6., 10., 15., 21.])"
      ]
     },
     "execution_count": 31,
     "metadata": {},
     "output_type": "execute_result"
    }
   ],
   "source": [
    "np.cumsum(a,dtype=float)"
   ]
  },
  {
   "cell_type": "code",
   "execution_count": 33,
   "id": "a9f30766",
   "metadata": {},
   "outputs": [
    {
     "data": {
      "text/plain": [
       "array([[1, 2, 3],\n",
       "       [5, 7, 9]], dtype=int32)"
      ]
     },
     "execution_count": 33,
     "metadata": {},
     "output_type": "execute_result"
    }
   ],
   "source": [
    "np.cumsum(a,axis=0)"
   ]
  },
  {
   "cell_type": "code",
   "execution_count": 34,
   "id": "7ec3623a",
   "metadata": {},
   "outputs": [
    {
     "data": {
      "text/plain": [
       "array([[ 1,  3,  6],\n",
       "       [ 4,  9, 15]], dtype=int32)"
      ]
     },
     "execution_count": 34,
     "metadata": {},
     "output_type": "execute_result"
    }
   ],
   "source": [
    "np.cumsum(a,axis=1)"
   ]
  },
  {
   "cell_type": "code",
   "execution_count": 37,
   "id": "893110e5",
   "metadata": {},
   "outputs": [
    {
     "data": {
      "text/plain": [
       "array([[1, 2, 3],\n",
       "       [4, 5, 6]])"
      ]
     },
     "execution_count": 37,
     "metadata": {},
     "output_type": "execute_result"
    }
   ],
   "source": [
    "a=np.array([[1,2,3],\n",
    "            [4,5,6]])\n",
    "a0=a[:,0]\n",
    "a"
   ]
  },
  {
   "cell_type": "code",
   "execution_count": 39,
   "id": "c42b4008",
   "metadata": {},
   "outputs": [
    {
     "data": {
      "text/plain": [
       "array([3, 6])"
      ]
     },
     "execution_count": 39,
     "metadata": {},
     "output_type": "execute_result"
    }
   ],
   "source": [
    "a1=a[:,2]\n",
    "a1"
   ]
  },
  {
   "cell_type": "code",
   "execution_count": 41,
   "id": "2f4e8ef2",
   "metadata": {},
   "outputs": [
    {
     "data": {
      "text/plain": [
       "array([1, 2, 3])"
      ]
     },
     "execution_count": 41,
     "metadata": {},
     "output_type": "execute_result"
    }
   ],
   "source": [
    "ar0=a[0,:]\n",
    "ar0"
   ]
  },
  {
   "cell_type": "code",
   "execution_count": 42,
   "id": "8d82c246",
   "metadata": {},
   "outputs": [
    {
     "data": {
      "text/plain": [
       "array([4, 5, 6])"
      ]
     },
     "execution_count": 42,
     "metadata": {},
     "output_type": "execute_result"
    }
   ],
   "source": [
    "ar1=a[1,:]\n",
    "ar1"
   ]
  },
  {
   "cell_type": "markdown",
   "id": "d3811539",
   "metadata": {},
   "source": [
    "# reshape()"
   ]
  },
  {
   "cell_type": "code",
   "execution_count": 45,
   "id": "7d08ab01",
   "metadata": {},
   "outputs": [
    {
     "data": {
      "text/plain": [
       "array([0, 1, 2, 3, 4, 5, 6, 7])"
      ]
     },
     "execution_count": 45,
     "metadata": {},
     "output_type": "execute_result"
    }
   ],
   "source": [
    "arr=np.arange(8)\n",
    "arr"
   ]
  },
  {
   "cell_type": "code",
   "execution_count": 46,
   "id": "12362025",
   "metadata": {},
   "outputs": [
    {
     "data": {
      "text/plain": [
       "array([[0, 1],\n",
       "       [2, 3],\n",
       "       [4, 5],\n",
       "       [6, 7]])"
      ]
     },
     "execution_count": 46,
     "metadata": {},
     "output_type": "execute_result"
    }
   ],
   "source": [
    "arr.reshape(4,2)"
   ]
  },
  {
   "cell_type": "code",
   "execution_count": 47,
   "id": "4a4b11fe",
   "metadata": {},
   "outputs": [
    {
     "data": {
      "text/plain": [
       "array([[0, 1, 2, 3],\n",
       "       [4, 5, 6, 7]])"
      ]
     },
     "execution_count": 47,
     "metadata": {},
     "output_type": "execute_result"
    }
   ],
   "source": [
    "arr.reshape(2,4)"
   ]
  },
  {
   "cell_type": "code",
   "execution_count": 48,
   "id": "f69b9354",
   "metadata": {},
   "outputs": [
    {
     "data": {
      "text/plain": [
       "array([[ 0,  1,  2],\n",
       "       [ 3,  4,  5],\n",
       "       [ 6,  7,  8],\n",
       "       [ 9, 10, 11],\n",
       "       [12, 13, 14]])"
      ]
     },
     "execution_count": 48,
     "metadata": {},
     "output_type": "execute_result"
    }
   ],
   "source": [
    "arr=np.arange(15)\n",
    "arr.reshape((5,-1)) #-1은 5행을 먼저 맞춰주고 이 행렬을 맞추기 위해서 3으로 바뀜 "
   ]
  },
  {
   "cell_type": "markdown",
   "id": "ef4f3f61",
   "metadata": {},
   "source": [
    "# ravel() : return a contiguous flattened array"
   ]
  },
  {
   "cell_type": "code",
   "execution_count": 51,
   "id": "cf894cda",
   "metadata": {},
   "outputs": [
    {
     "data": {
      "text/plain": [
       "array([[ 0,  1,  2],\n",
       "       [ 3,  4,  5],\n",
       "       [ 6,  7,  8],\n",
       "       [ 9, 10, 11],\n",
       "       [12, 13, 14]])"
      ]
     },
     "execution_count": 51,
     "metadata": {},
     "output_type": "execute_result"
    }
   ],
   "source": [
    "arr=np.arange(15).reshape(5,3)\n",
    "arr"
   ]
  },
  {
   "cell_type": "code",
   "execution_count": 52,
   "id": "a0d2c71c",
   "metadata": {},
   "outputs": [
    {
     "data": {
      "text/plain": [
       "array([ 0,  1,  2,  3,  4,  5,  6,  7,  8,  9, 10, 11, 12, 13, 14])"
      ]
     },
     "execution_count": 52,
     "metadata": {},
     "output_type": "execute_result"
    }
   ],
   "source": [
    "arr.ravel() #axis =0 "
   ]
  },
  {
   "cell_type": "code",
   "execution_count": 54,
   "id": "be732742",
   "metadata": {},
   "outputs": [
    {
     "data": {
      "text/plain": [
       "array([ 0,  3,  6,  9, 12,  1,  4,  7, 10, 13,  2,  5,  8, 11, 14])"
      ]
     },
     "execution_count": 54,
     "metadata": {},
     "output_type": "execute_result"
    }
   ],
   "source": [
    "arr.ravel('F') #axis =1"
   ]
  },
  {
   "cell_type": "code",
   "execution_count": 55,
   "id": "8775dbb2",
   "metadata": {},
   "outputs": [
    {
     "data": {
      "text/plain": [
       "array([[ 0,  1,  2,  3,  4],\n",
       "       [ 5,  6,  7,  8,  9],\n",
       "       [10, 11, 12, 13, 14]])"
      ]
     },
     "execution_count": 55,
     "metadata": {},
     "output_type": "execute_result"
    }
   ],
   "source": [
    "arr=np.arange(15).reshape(3,5)\n",
    "arr"
   ]
  },
  {
   "cell_type": "code",
   "execution_count": 56,
   "id": "44e58f69",
   "metadata": {},
   "outputs": [
    {
     "data": {
      "text/plain": [
       "array([ 0,  5, 10,  1,  6, 11,  2,  7, 12,  3,  8, 13,  4,  9, 14])"
      ]
     },
     "execution_count": 56,
     "metadata": {},
     "output_type": "execute_result"
    }
   ],
   "source": [
    "np.ravel(arr,order='F')"
   ]
  },
  {
   "cell_type": "code",
   "execution_count": 57,
   "id": "a5acdbb0",
   "metadata": {},
   "outputs": [
    {
     "data": {
      "text/plain": [
       "array([ 0,  1,  2,  3,  4,  5,  6,  7,  8,  9, 10, 11, 12, 13, 14])"
      ]
     },
     "execution_count": 57,
     "metadata": {},
     "output_type": "execute_result"
    }
   ],
   "source": [
    "np.ravel(arr)"
   ]
  },
  {
   "cell_type": "code",
   "execution_count": 58,
   "id": "f9b447a2",
   "metadata": {},
   "outputs": [
    {
     "data": {
      "text/plain": [
       "array([ 0,  1,  2,  3,  4,  5,  6,  7,  8,  9, 10, 11, 12, 13, 14])"
      ]
     },
     "execution_count": 58,
     "metadata": {},
     "output_type": "execute_result"
    }
   ],
   "source": [
    "np.ravel(arr,order='C')"
   ]
  },
  {
   "cell_type": "markdown",
   "id": "19dad029",
   "metadata": {},
   "source": [
    "# concatenate() 배열 붙이기 "
   ]
  },
  {
   "cell_type": "code",
   "execution_count": 60,
   "id": "65d744b2",
   "metadata": {},
   "outputs": [
    {
     "data": {
      "text/plain": [
       "array([[ 1,  2,  3],\n",
       "       [ 4,  5,  6],\n",
       "       [ 7,  8,  9],\n",
       "       [10, 11, 12]])"
      ]
     },
     "execution_count": 60,
     "metadata": {},
     "output_type": "execute_result"
    }
   ],
   "source": [
    "a1=np.array([[1,2,3],[4,5,6]])\n",
    "a2=np.array([[7,8,9],[10,11,12]])\n",
    "np.concatenate([a1,a2],axis=0) # 밑에다가 붙이는거"
   ]
  },
  {
   "cell_type": "code",
   "execution_count": 61,
   "id": "34983f9c",
   "metadata": {},
   "outputs": [
    {
     "data": {
      "text/plain": [
       "array([[ 1,  2,  3,  7,  8,  9],\n",
       "       [ 4,  5,  6, 10, 11, 12]])"
      ]
     },
     "execution_count": 61,
     "metadata": {},
     "output_type": "execute_result"
    }
   ],
   "source": [
    "np.concatenate([a1,a2],axis=1) #옆에다가 붙이는거 "
   ]
  },
  {
   "cell_type": "markdown",
   "id": "14976271",
   "metadata": {},
   "source": [
    "# repeat()"
   ]
  },
  {
   "cell_type": "code",
   "execution_count": 63,
   "id": "7461fefe",
   "metadata": {},
   "outputs": [
    {
     "data": {
      "text/plain": [
       "array([0, 1, 2])"
      ]
     },
     "execution_count": 63,
     "metadata": {},
     "output_type": "execute_result"
    }
   ],
   "source": [
    "arr=np.arange(3)\n",
    "arr\n"
   ]
  },
  {
   "cell_type": "code",
   "execution_count": 64,
   "id": "e399ff5f",
   "metadata": {},
   "outputs": [
    {
     "data": {
      "text/plain": [
       "array([0, 0, 0, 0, 1, 1, 1, 1, 2, 2, 2, 2])"
      ]
     },
     "execution_count": 64,
     "metadata": {},
     "output_type": "execute_result"
    }
   ],
   "source": [
    "arr.repeat(4)"
   ]
  },
  {
   "cell_type": "code",
   "execution_count": 65,
   "id": "1ec91a6a",
   "metadata": {},
   "outputs": [
    {
     "data": {
      "text/plain": [
       "array([0, 0, 1, 1, 1, 2, 2, 2, 2])"
      ]
     },
     "execution_count": 65,
     "metadata": {},
     "output_type": "execute_result"
    }
   ],
   "source": [
    "arr.repeat([2,3,4])"
   ]
  },
  {
   "cell_type": "code",
   "execution_count": 4,
   "id": "93b124e7",
   "metadata": {},
   "outputs": [
    {
     "data": {
      "text/plain": [
       "array([[0.00171113, 0.80937986],\n",
       "       [1.54213225, 0.61581632]])"
      ]
     },
     "execution_count": 4,
     "metadata": {},
     "output_type": "execute_result"
    }
   ],
   "source": [
    "arr=np.random.randn(2,2)\n",
    "arr"
   ]
  },
  {
   "cell_type": "code",
   "execution_count": 5,
   "id": "48f63c21",
   "metadata": {},
   "outputs": [
    {
     "data": {
      "text/plain": [
       "array([[0.00171113, 0.80937986],\n",
       "       [0.00171113, 0.80937986],\n",
       "       [1.54213225, 0.61581632],\n",
       "       [1.54213225, 0.61581632],\n",
       "       [1.54213225, 0.61581632]])"
      ]
     },
     "execution_count": 5,
     "metadata": {},
     "output_type": "execute_result"
    }
   ],
   "source": [
    "arr.repeat([2,3],axis=0)"
   ]
  },
  {
   "cell_type": "code",
   "execution_count": 6,
   "id": "38ed1152",
   "metadata": {},
   "outputs": [
    {
     "data": {
      "text/plain": [
       "array([[0.00171113, 0.00171113, 0.80937986, 0.80937986, 0.80937986],\n",
       "       [1.54213225, 1.54213225, 0.61581632, 0.61581632, 0.61581632]])"
      ]
     },
     "execution_count": 6,
     "metadata": {},
     "output_type": "execute_result"
    }
   ],
   "source": [
    "arr.repeat([2,3],axis=1)"
   ]
  },
  {
   "cell_type": "markdown",
   "id": "8733acbf",
   "metadata": {},
   "source": [
    "# tile() 똑같은거 붙여줌 "
   ]
  },
  {
   "cell_type": "code",
   "execution_count": 8,
   "id": "a2061bfa",
   "metadata": {},
   "outputs": [
    {
     "data": {
      "text/plain": [
       "array([[0.00171113, 0.80937986],\n",
       "       [1.54213225, 0.61581632]])"
      ]
     },
     "execution_count": 8,
     "metadata": {},
     "output_type": "execute_result"
    }
   ],
   "source": [
    "arr"
   ]
  },
  {
   "cell_type": "code",
   "execution_count": 9,
   "id": "a0d772b1",
   "metadata": {},
   "outputs": [
    {
     "data": {
      "text/plain": [
       "array([[0.00171113, 0.80937986, 0.00171113, 0.80937986],\n",
       "       [1.54213225, 0.61581632, 1.54213225, 0.61581632]])"
      ]
     },
     "execution_count": 9,
     "metadata": {},
     "output_type": "execute_result"
    }
   ],
   "source": [
    "np.tile(arr,2)"
   ]
  },
  {
   "cell_type": "code",
   "execution_count": 10,
   "id": "4c7a5706",
   "metadata": {},
   "outputs": [
    {
     "data": {
      "text/plain": [
       "array([[0.00171113, 0.80937986],\n",
       "       [1.54213225, 0.61581632],\n",
       "       [0.00171113, 0.80937986],\n",
       "       [1.54213225, 0.61581632]])"
      ]
     },
     "execution_count": 10,
     "metadata": {},
     "output_type": "execute_result"
    }
   ],
   "source": [
    "np.tile(arr,(2,1))"
   ]
  },
  {
   "cell_type": "code",
   "execution_count": 11,
   "id": "63078030",
   "metadata": {},
   "outputs": [
    {
     "data": {
      "text/plain": [
       "array([[0.00171113, 0.80937986, 0.00171113, 0.80937986],\n",
       "       [1.54213225, 0.61581632, 1.54213225, 0.61581632],\n",
       "       [0.00171113, 0.80937986, 0.00171113, 0.80937986],\n",
       "       [1.54213225, 0.61581632, 1.54213225, 0.61581632],\n",
       "       [0.00171113, 0.80937986, 0.00171113, 0.80937986],\n",
       "       [1.54213225, 0.61581632, 1.54213225, 0.61581632]])"
      ]
     },
     "execution_count": 11,
     "metadata": {},
     "output_type": "execute_result"
    }
   ],
   "source": [
    "np.tile(arr,(3,2))"
   ]
  },
  {
   "cell_type": "markdown",
   "id": "d2b8205d",
   "metadata": {},
   "source": [
    "# range와 numpy.arange 비교"
   ]
  },
  {
   "cell_type": "code",
   "execution_count": 13,
   "id": "71d11512",
   "metadata": {},
   "outputs": [
    {
     "name": "stdout",
     "output_type": "stream",
     "text": [
      "<class 'range'> range(1, 10)\n"
     ]
    }
   ],
   "source": [
    "pyL=range(1,10)\n",
    "print(type(pyL),pyL)"
   ]
  },
  {
   "cell_type": "code",
   "execution_count": 14,
   "id": "88bd4594",
   "metadata": {},
   "outputs": [
    {
     "name": "stdout",
     "output_type": "stream",
     "text": [
      "<class 'numpy.ndarray'> [1. 2. 3. 4. 5. 6. 7. 8. 9.]\n"
     ]
    },
    {
     "name": "stderr",
     "output_type": "stream",
     "text": [
      "C:\\Users\\user\\AppData\\Local\\Temp/ipykernel_19784/1270515223.py:1: DeprecationWarning: `np.float` is a deprecated alias for the builtin `float`. To silence this warning, use `float` by itself. Doing this will not modify any behavior and is safe. If you specifically wanted the numpy scalar type, use `np.float64` here.\n",
      "Deprecated in NumPy 1.20; for more details and guidance: https://numpy.org/devdocs/release/1.20.0-notes.html#deprecations\n",
      "  npA=np.arange(1,10,dtype=np.float)\n"
     ]
    }
   ],
   "source": [
    "npA=np.arange(1,10,dtype=np.float)\n",
    "print(type(npA),npA)"
   ]
  },
  {
   "cell_type": "code",
   "execution_count": 15,
   "id": "8469d7d7",
   "metadata": {},
   "outputs": [
    {
     "name": "stdout",
     "output_type": "stream",
     "text": [
      "<class 'numpy.ndarray'> [1 2 3 4 5 6 7 8 9]\n"
     ]
    },
    {
     "name": "stderr",
     "output_type": "stream",
     "text": [
      "C:\\Users\\user\\AppData\\Local\\Temp/ipykernel_19784/2441809604.py:1: DeprecationWarning: `np.int` is a deprecated alias for the builtin `int`. To silence this warning, use `int` by itself. Doing this will not modify any behavior and is safe. When replacing `np.int`, you may wish to use e.g. `np.int64` or `np.int32` to specify the precision. If you wish to review your current use, check the release note link for additional information.\n",
      "Deprecated in NumPy 1.20; for more details and guidance: https://numpy.org/devdocs/release/1.20.0-notes.html#deprecations\n",
      "  npA=np.arange(1,10,dtype=np.int)\n"
     ]
    }
   ],
   "source": [
    "npA=np.arange(1,10,dtype=np.int)\n",
    "print(type(npA),npA)"
   ]
  },
  {
   "cell_type": "code",
   "execution_count": 16,
   "id": "3c342392",
   "metadata": {},
   "outputs": [],
   "source": [
    "# 연산방식: 섭씨와 화씨 온도 변환"
   ]
  },
  {
   "cell_type": "code",
   "execution_count": 17,
   "id": "e6c5aa44",
   "metadata": {},
   "outputs": [
    {
     "name": "stdout",
     "output_type": "stream",
     "text": [
      "[25.3 24.8 26.9 23.9]\n",
      "<class 'numpy.ndarray'> [77.54 76.64 80.42 75.02]\n"
     ]
    }
   ],
   "source": [
    "cvalues=[25.3, 24.8, 26.9, 23.9]\n",
    "c=np.array(cvalues)\n",
    "print(c)\n",
    "F=c*9/5+32\n",
    "print(type(F),F)"
   ]
  }
 ],
 "metadata": {
  "kernelspec": {
   "display_name": "Python 3 (ipykernel)",
   "language": "python",
   "name": "python3"
  },
  "language_info": {
   "codemirror_mode": {
    "name": "ipython",
    "version": 3
   },
   "file_extension": ".py",
   "mimetype": "text/x-python",
   "name": "python",
   "nbconvert_exporter": "python",
   "pygments_lexer": "ipython3",
   "version": "3.9.7"
  }
 },
 "nbformat": 4,
 "nbformat_minor": 5
}
