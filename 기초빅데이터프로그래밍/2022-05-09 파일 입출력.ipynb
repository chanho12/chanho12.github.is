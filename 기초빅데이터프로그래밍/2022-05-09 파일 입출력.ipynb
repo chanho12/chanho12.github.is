{
 "cells": [
  {
   "cell_type": "markdown",
   "id": "56417e43",
   "metadata": {},
   "source": [
    "# open(파일_이름, [파일_열기_모드],[encoding = 인코딩 방식])"
   ]
  },
  {
   "cell_type": "code",
   "execution_count": 3,
   "id": "dd4bed25",
   "metadata": {},
   "outputs": [],
   "source": [
    "fp=open(\"hello.txt\",\"wt\",encoding='cp949')\n",
    "fp.write(\"Hello World\\n\")\n",
    "fp.write(\"Hello Sea \\n\")\n",
    "fp.write(\"Hello C! \\n\")\n",
    "fp.write(\"%d\\n\"%99)\n",
    "fp.write(\"%.2f\\n\"%99.9)\n",
    "fp.write(\"서강대학교 \\n\")\n",
    "fp.close()"
   ]
  },
  {
   "cell_type": "code",
   "execution_count": 5,
   "id": "fda34002",
   "metadata": {},
   "outputs": [
    {
     "name": "stdout",
     "output_type": "stream",
     "text": [
      "Hello World\n",
      "Hello Sea \n",
      "Hello C! \n",
      "99\n",
      "99.90\n",
      "서강대학교 \n",
      "\n"
     ]
    }
   ],
   "source": [
    "with open(\"hello.txt\",'r') as f:\n",
    "    print(f.read())"
   ]
  },
  {
   "cell_type": "markdown",
   "id": "22fcc47f",
   "metadata": {},
   "source": [
    "# 텍스트 파일 쓰기 "
   ]
  },
  {
   "cell_type": "code",
   "execution_count": 20,
   "id": "91c9743f",
   "metadata": {},
   "outputs": [],
   "source": [
    "fp=open(\"hello.txt\",\"wt\",encoding='cp949')\n",
    "fp.write(\"Hello World\\n\")\n",
    "fp.write(\"Hello Sea \\n\")\n",
    "fp.write(\"Hello C! \\n\")\n",
    "fp.write(\"%d\\n\"%99)\n",
    "fp.write(\"%.2f\\n\"%99.9)\n",
    "fp.write(\"서강대학교 \\n\")\n",
    "a=['abcd','1234']\n",
    "fp.write(\"\\n\".join(a)) #리스트를 못쓰니  join(a)로 str로 바꿔주는 작업\n",
    "fp.writelines(a) #이건 리스트를 바로 사용하는게 가능\n",
    "b=['abcd\\n','1234\\n']\n",
    "fp.write(\"\\n\".join(b)) #리스트를 못쓰니  join(b)로 str로 바꿔주는 작업\n",
    "fp.writelines(b) #이건 리스트를 바로 사용하는게 가능\n",
    "fp.close()"
   ]
  },
  {
   "cell_type": "markdown",
   "id": "603a8358",
   "metadata": {},
   "source": [
    "# 텍스트 파일 읽기 "
   ]
  },
  {
   "cell_type": "code",
   "execution_count": 7,
   "id": "9ed4820a",
   "metadata": {},
   "outputs": [
    {
     "name": "stdout",
     "output_type": "stream",
     "text": [
      "Writing FileTest.txt\n"
     ]
    }
   ],
   "source": [
    "%%writefile FileTest.txt\n",
    "Building Machine Leanring Systems with python\n",
    "python Machine Learning\n",
    "Machine learning in Action\n",
    "행복하세요"
   ]
  },
  {
   "cell_type": "code",
   "execution_count": 11,
   "id": "31970ac6",
   "metadata": {},
   "outputs": [
    {
     "name": "stdout",
     "output_type": "stream",
     "text": [
      "Building Machine Leanring Systems with python\n",
      "pyth\n",
      "on Machine Learning\n",
      "Machine learning in Action\n",
      "행복하\n",
      "세요\n",
      "\n"
     ]
    }
   ],
   "source": [
    "f=open(\"FileTest.txt\",'rt',encoding = 'utf-8')\n",
    "a=f.read(50) #앞에서부터 50개 읽음\n",
    "print(a)\n",
    "b=f.read(50)\n",
    "print(b)\n",
    "c=f.read(4)\n",
    "print(c)"
   ]
  },
  {
   "cell_type": "markdown",
   "id": "dcfb029b",
   "metadata": {},
   "source": [
    "# read()  한번에 읽기 "
   ]
  },
  {
   "cell_type": "code",
   "execution_count": 12,
   "id": "991ff27a",
   "metadata": {},
   "outputs": [
    {
     "name": "stdout",
     "output_type": "stream",
     "text": [
      "Hello World\n",
      "Hello Sea \n",
      "Hello C! \n",
      "99\n",
      "99.90\n",
      "서강대학교 \n",
      "abcd\n",
      "1234abcd1234abcd\n",
      "\n",
      "1234\n",
      "abcd\n",
      "1234\n",
      "\n"
     ]
    }
   ],
   "source": [
    "fp=open(\"hello.txt\",'rt')\n",
    "contents=fp.read()\n",
    "print(contents)\n",
    "fp.close()"
   ]
  },
  {
   "cell_type": "code",
   "execution_count": 13,
   "id": "5e66242f",
   "metadata": {},
   "outputs": [
    {
     "data": {
      "text/plain": [
       "'Hello World\\nHello Sea \\nHello C! \\n99\\n99.90\\n서강대학교 \\nabcd\\n1234abcd1234abcd\\n\\n1234\\nabcd\\n1234\\n'"
      ]
     },
     "execution_count": 13,
     "metadata": {},
     "output_type": "execute_result"
    }
   ],
   "source": [
    "contents"
   ]
  },
  {
   "cell_type": "markdown",
   "id": "3feba55a",
   "metadata": {},
   "source": [
    "# 한 줄씩 읽어 오기 -  readline()"
   ]
  },
  {
   "cell_type": "code",
   "execution_count": 16,
   "id": "7073db39",
   "metadata": {},
   "outputs": [
    {
     "name": "stdout",
     "output_type": "stream",
     "text": [
      "Building Machine Leanring Systems with python\n",
      "\n",
      "python Machine Learning\n",
      "\n",
      "Machine learning in Action\n",
      "\n",
      "행복하세요\n",
      "\n"
     ]
    }
   ],
   "source": [
    "f=open('FileTest.txt','rt',encoding='utf-8')\n",
    "a=f.readline() #한줄씩 읽어오기 \n",
    "print(a)\n",
    "b=f.readline()\n",
    "print(b)\n",
    "for line in f:\n",
    "    print(line)\n",
    "f.close()"
   ]
  },
  {
   "cell_type": "code",
   "execution_count": 17,
   "id": "ffe9b47f",
   "metadata": {},
   "outputs": [
    {
     "name": "stdout",
     "output_type": "stream",
     "text": [
      "['Building Machine Leanring Systems with python\\n', 'python Machine Learning\\n', 'Machine learning in Action\\n', '행복하세요\\n']\n"
     ]
    }
   ],
   "source": [
    "f=open(\"FileTest.txt\",'rt',encoding='utf-8')\n",
    "a=f.readlines()\n",
    "print(a)\n",
    "f.close()"
   ]
  },
  {
   "cell_type": "markdown",
   "id": "b4bda0ec",
   "metadata": {},
   "source": [
    "# readline()"
   ]
  },
  {
   "cell_type": "code",
   "execution_count": null,
   "id": "0822c8fe",
   "metadata": {},
   "outputs": [],
   "source": [
    "fp=open(\"hello.txt\",'rt')\n",
    "line=fp.readline() #한줄씩 읽게 해줌 \n",
    "print(line.strip()) #strip은 \\n을 제거해줌 \n",
    "line=fp.readline()\n",
    "print(line.strip())\n",
    "line=fp.readline()\n",
    "print(line.strip())\n",
    "line=fp.readline()\n",
    "print(line.strip())\n",
    "line=fp.readline()\n",
    "print(line.strip())\n",
    "line=fp.readline()\n",
    "print(line.strip())\n",
    "fp.close()"
   ]
  },
  {
   "cell_type": "code",
   "execution_count": 22,
   "id": "0621e535",
   "metadata": {},
   "outputs": [
    {
     "name": "stdout",
     "output_type": "stream",
     "text": [
      "Hello World\n",
      "\n",
      "Hello Sea \n",
      "\n",
      "Hello C! \n",
      "\n",
      "99\n",
      "\n",
      "99.90\n",
      "\n",
      "서강대학교 \n",
      "\n"
     ]
    }
   ],
   "source": [
    "fp = open(\"hello.txt\",'rt')\n",
    "for i in range(0,6):\n",
    "    line=fp.readline()\n",
    "    print(line)\n",
    "fp.close()"
   ]
  },
  {
   "cell_type": "markdown",
   "id": "48aa7dde",
   "metadata": {},
   "source": [
    "# readlines()"
   ]
  },
  {
   "cell_type": "code",
   "execution_count": 24,
   "id": "0966effd",
   "metadata": {},
   "outputs": [
    {
     "name": "stdout",
     "output_type": "stream",
     "text": [
      "['Hello World\\n', 'Hello Sea \\n', 'Hello C! \\n', '99\\n', '99.90\\n', '서강대학교 \\n', 'abcd\\n', '1234abcd1234abcd\\n', '\\n', '1234\\n', 'abcd\\n', '1234\\n']\n"
     ]
    }
   ],
   "source": [
    "fp=open(\"hello.txt\",'rt')\n",
    "lines=fp.readlines() #리스트로 반환해줌 \n",
    "print(lines)\n",
    "fp.close() "
   ]
  }
 ],
 "metadata": {
  "kernelspec": {
   "display_name": "Python 3 (ipykernel)",
   "language": "python",
   "name": "python3"
  },
  "language_info": {
   "codemirror_mode": {
    "name": "ipython",
    "version": 3
   },
   "file_extension": ".py",
   "mimetype": "text/x-python",
   "name": "python",
   "nbconvert_exporter": "python",
   "pygments_lexer": "ipython3",
   "version": "3.9.7"
  }
 },
 "nbformat": 4,
 "nbformat_minor": 5
}
