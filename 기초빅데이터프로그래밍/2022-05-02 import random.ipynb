{
 "cells": [
  {
   "cell_type": "code",
   "execution_count": 3,
   "id": "5f1a9204",
   "metadata": {},
   "outputs": [
    {
     "name": "stdout",
     "output_type": "stream",
     "text": [
      "[13, 17, 20, 21, 25, 30]\n"
     ]
    }
   ],
   "source": [
    "import random\n",
    "\n",
    "def get_lotto_numbers():\n",
    "    lotto_numbers=[]\n",
    "    \n",
    "    while True:\n",
    "        if len(lotto_numbers) ==6:\n",
    "            break\n",
    "        number =random.randint(1,45)\n",
    "        if number in lotto_numbers:\n",
    "            continue\n",
    "        else:\n",
    "            lotto_numbers.append(number)\n",
    "    return sorted(lotto_numbers)\n",
    "\n",
    "lotto_numbers=get_lotto_numbers()\n",
    "print(lotto_numbers)"
   ]
  },
  {
   "cell_type": "code",
   "execution_count": null,
   "id": "16187125",
   "metadata": {},
   "outputs": [],
   "source": []
  }
 ],
 "metadata": {
  "kernelspec": {
   "display_name": "Python 3 (ipykernel)",
   "language": "python",
   "name": "python3"
  },
  "language_info": {
   "codemirror_mode": {
    "name": "ipython",
    "version": 3
   },
   "file_extension": ".py",
   "mimetype": "text/x-python",
   "name": "python",
   "nbconvert_exporter": "python",
   "pygments_lexer": "ipython3",
   "version": "3.9.7"
  }
 },
 "nbformat": 4,
 "nbformat_minor": 5
}
