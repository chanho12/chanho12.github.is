{
 "cells": [
  {
   "cell_type": "markdown",
   "id": "467a5faa",
   "metadata": {},
   "source": [
    "# import time"
   ]
  },
  {
   "cell_type": "code",
   "execution_count": 3,
   "id": "52073c8a",
   "metadata": {},
   "outputs": [
    {
     "data": {
      "text/plain": [
       "1651666196.6447613"
      ]
     },
     "execution_count": 3,
     "metadata": {},
     "output_type": "execute_result"
    }
   ],
   "source": [
    "import time\n",
    "time.time() #1970년 1월 1일 자정을 시작으로 지금까지의 초를 가르쳐줌. "
   ]
  },
  {
   "cell_type": "code",
   "execution_count": 4,
   "id": "4842d9ce",
   "metadata": {},
   "outputs": [],
   "source": [
    "time.sleep(10) #현재 프로세스를 주어진 초만큼 정지"
   ]
  },
  {
   "cell_type": "code",
   "execution_count": 8,
   "id": "95222d58",
   "metadata": {},
   "outputs": [
    {
     "data": {
      "text/plain": [
       "time.struct_time(tm_year=2022, tm_mon=5, tm_mday=4, tm_hour=12, tm_min=11, tm_sec=18, tm_wday=2, tm_yday=124, tm_isdst=0)"
      ]
     },
     "execution_count": 8,
     "metadata": {},
     "output_type": "execute_result"
    }
   ],
   "source": [
    "time.gmtime() #(아무것도 안치면) 현재 시간을 가르쳐줌"
   ]
  },
  {
   "cell_type": "code",
   "execution_count": 9,
   "id": "c1175da6",
   "metadata": {},
   "outputs": [
    {
     "data": {
      "text/plain": [
       "time.struct_time(tm_year=2022, tm_mon=5, tm_mday=4, tm_hour=21, tm_min=11, tm_sec=33, tm_wday=2, tm_yday=124, tm_isdst=0)"
      ]
     },
     "execution_count": 9,
     "metadata": {},
     "output_type": "execute_result"
    }
   ],
   "source": [
    "time.localtime() #(아무것도 안치면) 현재시간을 가르쳐줌 "
   ]
  },
  {
   "cell_type": "code",
   "execution_count": 13,
   "id": "299ea85a",
   "metadata": {},
   "outputs": [
    {
     "data": {
      "text/plain": [
       "'Wed May  4 21:12:21 2022'"
      ]
     },
     "execution_count": 13,
     "metadata": {},
     "output_type": "execute_result"
    }
   ],
   "source": [
    "time.asctime() #(아무것도 안치면 )월 일 시간을 할당시켜줌"
   ]
  },
  {
   "cell_type": "markdown",
   "id": "4bfdd0f0",
   "metadata": {},
   "source": [
    "# 예시"
   ]
  },
  {
   "cell_type": "code",
   "execution_count": 23,
   "id": "ae4e28e8",
   "metadata": {},
   "outputs": [
    {
     "name": "stdout",
     "output_type": "stream",
     "text": [
      "time.struct_time(tm_year=2022, tm_mon=5, tm_mday=4, tm_hour=12, tm_min=14, tm_sec=46, tm_wday=2, tm_yday=124, tm_isdst=0)\n"
     ]
    }
   ],
   "source": [
    "t1=time.time()\n",
    "t2=time.gmtime(t1) #할당받은 초를 1970년대 기준으로 가르쳐줌. \n",
    "print(t2)"
   ]
  },
  {
   "cell_type": "code",
   "execution_count": 25,
   "id": "12689d44",
   "metadata": {},
   "outputs": [
    {
     "data": {
      "text/plain": [
       "time.struct_time(tm_year=2022, tm_mon=5, tm_mday=4, tm_hour=21, tm_min=15, tm_sec=28, tm_wday=2, tm_yday=124, tm_isdst=0)"
      ]
     },
     "execution_count": 25,
     "metadata": {},
     "output_type": "execute_result"
    }
   ],
   "source": [
    "time.localtime() "
   ]
  },
  {
   "cell_type": "code",
   "execution_count": 26,
   "id": "a81061c9",
   "metadata": {},
   "outputs": [
    {
     "data": {
      "text/plain": [
       "'Wed May  4 12:14:46 2022'"
      ]
     },
     "execution_count": 26,
     "metadata": {},
     "output_type": "execute_result"
    }
   ],
   "source": [
    "time.asctime(t2) "
   ]
  },
  {
   "cell_type": "code",
   "execution_count": 27,
   "id": "dc92efb3",
   "metadata": {},
   "outputs": [
    {
     "data": {
      "text/plain": [
       "1651634086.0"
      ]
     },
     "execution_count": 27,
     "metadata": {},
     "output_type": "execute_result"
    }
   ],
   "source": [
    "time.mktime(t2)"
   ]
  },
  {
   "cell_type": "markdown",
   "id": "f452f105",
   "metadata": {},
   "source": [
    "# import datetime"
   ]
  },
  {
   "cell_type": "code",
   "execution_count": 73,
   "id": "6d65acbe",
   "metadata": {},
   "outputs": [
    {
     "name": "stdout",
     "output_type": "stream",
     "text": [
      "2022-05-04 22:20:31.633652\n"
     ]
    }
   ],
   "source": [
    "import datetime\n",
    "now = datetime.datetime.now()\n",
    "print(now)"
   ]
  },
  {
   "cell_type": "code",
   "execution_count": 40,
   "id": "27ee942c",
   "metadata": {},
   "outputs": [
    {
     "name": "stdout",
     "output_type": "stream",
     "text": [
      "2022:05:04 21:16:51 Wed\n",
      "2022-05-04 21:16:51.588995\n",
      "2022-05-04 21:16:51.588995\n"
     ]
    },
    {
     "data": {
      "text/plain": [
       "datetime.datetime(2022, 5, 4, 21, 16, 51, 588995)"
      ]
     },
     "execution_count": 40,
     "metadata": {},
     "output_type": "execute_result"
    }
   ],
   "source": [
    "print(now.strftime(\"%Y:%m:%d %H:%M:%S %a\")) #strftime \n",
    "st1=str(now)\n",
    "print(st1)\n",
    "st2=datetime.datetime.strptime(st1, \"%Y-%m-%d %H:%M:%S.%f\") #strptime \n",
    "print(st2)\n",
    "st2"
   ]
  },
  {
   "cell_type": "code",
   "execution_count": 45,
   "id": "695a37cd",
   "metadata": {},
   "outputs": [
    {
     "name": "stdout",
     "output_type": "stream",
     "text": [
      "time.struct_time(tm_year=2022, tm_mon=5, tm_mday=4, tm_hour=12, tm_min=26, tm_sec=17, tm_wday=2, tm_yday=124, tm_isdst=0)\n",
      "\n",
      "2022:May:04 12:26:17 Wednesday\n"
     ]
    }
   ],
   "source": [
    "t1=time.gmtime()\n",
    "print(t1)\n",
    "print()\n",
    "print(time.strftime(\"%Y:%B:%d %H:%M:%S %A\",t1)) #년 월 일 시 분 초 요일"
   ]
  },
  {
   "cell_type": "code",
   "execution_count": 48,
   "id": "8eabe0f1",
   "metadata": {},
   "outputs": [
    {
     "name": "stdout",
     "output_type": "stream",
     "text": [
      "time.struct_time(tm_year=2022, tm_mon=5, tm_mday=4, tm_hour=21, tm_min=27, tm_sec=39, tm_wday=2, tm_yday=124, tm_isdst=0)\n",
      "\n",
      "2022:May:04 21:27:39 Wed\n"
     ]
    }
   ],
   "source": [
    "t3=time.localtime()\n",
    "print(t3)\n",
    "print()\n",
    "print(time.strftime(\"%Y:%B:%d %H:%M:%S %a\",t3)) #대문자는 다 보여주는데 소문자는 좀 줄여서 보여줌 "
   ]
  },
  {
   "cell_type": "code",
   "execution_count": 51,
   "id": "6927b86d",
   "metadata": {},
   "outputs": [
    {
     "data": {
      "text/plain": [
       "'May 04th Wednesday 09:58'"
      ]
     },
     "execution_count": 51,
     "metadata": {},
     "output_type": "execute_result"
    }
   ],
   "source": [
    "time.strftime(\"%B %dth %A %I:%M\",time.localtime())"
   ]
  },
  {
   "cell_type": "code",
   "execution_count": 52,
   "id": "47a66e39",
   "metadata": {},
   "outputs": [
    {
     "data": {
      "text/plain": [
       "'2022-05-04 Wednesday 09:58'"
      ]
     },
     "execution_count": 52,
     "metadata": {},
     "output_type": "execute_result"
    }
   ],
   "source": [
    "time.strftime(\"%Y-%m-%d %A %I:%M\",time.localtime())"
   ]
  },
  {
   "cell_type": "code",
   "execution_count": 55,
   "id": "54622417",
   "metadata": {},
   "outputs": [
    {
     "data": {
      "text/plain": [
       "'22-05-04 Wednesday 10:02'"
      ]
     },
     "execution_count": 55,
     "metadata": {},
     "output_type": "execute_result"
    }
   ],
   "source": [
    "time.strftime(\"%y-%m-%d %A %I:%M\",time.localtime())"
   ]
  },
  {
   "cell_type": "code",
   "execution_count": 56,
   "id": "9fe950fb",
   "metadata": {},
   "outputs": [
    {
     "data": {
      "text/plain": [
       "'05/04/22 22:02:50'"
      ]
     },
     "execution_count": 56,
     "metadata": {},
     "output_type": "execute_result"
    }
   ],
   "source": [
    "time.strftime(\"%x %X\",time.localtime())"
   ]
  },
  {
   "cell_type": "code",
   "execution_count": 58,
   "id": "092eaffe",
   "metadata": {},
   "outputs": [
    {
     "data": {
      "text/plain": [
       "datetime.date(1, 5, 6)"
      ]
     },
     "execution_count": 58,
     "metadata": {},
     "output_type": "execute_result"
    }
   ],
   "source": [
    "datetime.date.fromordinal(126) #1년 1월 1일부터 시작해서 126일 이후의 날짜를 골라서 해봐라"
   ]
  },
  {
   "cell_type": "markdown",
   "id": "2883ea55",
   "metadata": {},
   "source": [
    "# 현재시간 구해보기"
   ]
  },
  {
   "cell_type": "code",
   "execution_count": 62,
   "id": "b8633599",
   "metadata": {},
   "outputs": [
    {
     "name": "stdout",
     "output_type": "stream",
     "text": [
      "년도: 2022\n",
      "월: 05\n",
      "일: 04\n",
      "요일: Wednesday\n"
     ]
    }
   ],
   "source": [
    "import time as tm\n",
    "print(\"년도:\", tm.strftime(\"%Y\",tm.localtime()))\n",
    "print(\"월:\", tm.strftime(\"%m\",tm.localtime()))\n",
    "print(\"일:\", tm.strftime(\"%d\",tm.localtime()))\n",
    "print(\"요일:\", tm.strftime(\"%A\",tm.localtime()))"
   ]
  },
  {
   "cell_type": "code",
   "execution_count": 64,
   "id": "74d9412d",
   "metadata": {},
   "outputs": [
    {
     "data": {
      "text/plain": [
       "'2022/05/04'"
      ]
     },
     "execution_count": 64,
     "metadata": {},
     "output_type": "execute_result"
    }
   ],
   "source": [
    "tm.strftime(\"%Y/%m/%d\",tm.localtime())"
   ]
  },
  {
   "cell_type": "markdown",
   "id": "f762c090",
   "metadata": {},
   "source": [
    "# 3초 sleep 하는 예제"
   ]
  },
  {
   "cell_type": "code",
   "execution_count": 65,
   "id": "247f7245",
   "metadata": {},
   "outputs": [
    {
     "name": "stdout",
     "output_type": "stream",
     "text": [
      "Enter a number:1\n",
      "Enter a number again:1\n",
      "Time gap : 4.035813808441162\n"
     ]
    }
   ],
   "source": [
    "import time\n",
    "\n",
    "input(\"Enter a number:\")\n",
    "t1=time.time()\n",
    "\n",
    "time.sleep(3)\n",
    "input(\"Enter a number again:\")\n",
    "\n",
    "t2=time.time()\n",
    "time_gap=t2-t1\n",
    "print(\"Time gap :\",time_gap)"
   ]
  },
  {
   "cell_type": "markdown",
   "id": "6b8af5c1",
   "metadata": {},
   "source": [
    "# strptime"
   ]
  },
  {
   "cell_type": "code",
   "execution_count": 66,
   "id": "1089c3f1",
   "metadata": {},
   "outputs": [
    {
     "name": "stdout",
     "output_type": "stream",
     "text": [
      "Wed May  4 22:15:29 2022\n"
     ]
    }
   ],
   "source": [
    "import time\n",
    "tstr=time.ctime(time.time())\n",
    "print(tstr)"
   ]
  },
  {
   "cell_type": "code",
   "execution_count": 67,
   "id": "a943ea19",
   "metadata": {},
   "outputs": [
    {
     "data": {
      "text/plain": [
       "time.struct_time(tm_year=2022, tm_mon=5, tm_mday=4, tm_hour=22, tm_min=15, tm_sec=29, tm_wday=2, tm_yday=124, tm_isdst=-1)"
      ]
     },
     "execution_count": 67,
     "metadata": {},
     "output_type": "execute_result"
    }
   ],
   "source": [
    "time.strptime(tstr)"
   ]
  },
  {
   "cell_type": "code",
   "execution_count": 70,
   "id": "47a2fa50",
   "metadata": {},
   "outputs": [
    {
     "name": "stdout",
     "output_type": "stream",
     "text": [
      "time.struct_time(tm_year=2022, tm_mon=5, tm_mday=4, tm_hour=22, tm_min=15, tm_sec=29, tm_wday=2, tm_yday=124, tm_isdst=-1)\n"
     ]
    }
   ],
   "source": [
    "time.strptime(tstr, \"%a %b %d %H:%M:%S %Y\")"
   ]
  },
  {
   "cell_type": "code",
   "execution_count": 71,
   "id": "a7a26501",
   "metadata": {},
   "outputs": [
    {
     "name": "stdout",
     "output_type": "stream",
     "text": [
      "May 04th Wednesday 22 : 17 : 11\n"
     ]
    }
   ],
   "source": [
    "tstr2=time.strftime(\"%B %dth %A %H : %M : %S\", time.localtime())\n",
    "print(tstr2)"
   ]
  },
  {
   "cell_type": "code",
   "execution_count": 74,
   "id": "5ad057f3",
   "metadata": {},
   "outputs": [
    {
     "data": {
      "text/plain": [
       "datetime.date(2018, 4, 30)"
      ]
     },
     "execution_count": 74,
     "metadata": {},
     "output_type": "execute_result"
    }
   ],
   "source": [
    "import datetime as dt\n",
    "import time as tm\n",
    "dt.date(2018,4,30)"
   ]
  },
  {
   "cell_type": "code",
   "execution_count": 77,
   "id": "4a2eb655",
   "metadata": {},
   "outputs": [
    {
     "data": {
      "text/plain": [
       "datetime.date(2022, 5, 4)"
      ]
     },
     "execution_count": 77,
     "metadata": {},
     "output_type": "execute_result"
    }
   ],
   "source": [
    "dt.date.fromtimestamp(tm.time())"
   ]
  },
  {
   "cell_type": "code",
   "execution_count": 78,
   "id": "946a44d5",
   "metadata": {},
   "outputs": [
    {
     "data": {
      "text/plain": [
       "datetime.date(2022, 5, 4)"
      ]
     },
     "execution_count": 78,
     "metadata": {},
     "output_type": "execute_result"
    }
   ],
   "source": [
    "dt.date.today()"
   ]
  },
  {
   "cell_type": "code",
   "execution_count": null,
   "id": "d3115494",
   "metadata": {},
   "outputs": [],
   "source": []
  }
 ],
 "metadata": {
  "kernelspec": {
   "display_name": "Python 3 (ipykernel)",
   "language": "python",
   "name": "python3"
  },
  "language_info": {
   "codemirror_mode": {
    "name": "ipython",
    "version": 3
   },
   "file_extension": ".py",
   "mimetype": "text/x-python",
   "name": "python",
   "nbconvert_exporter": "python",
   "pygments_lexer": "ipython3",
   "version": "3.9.7"
  }
 },
 "nbformat": 4,
 "nbformat_minor": 5
}
